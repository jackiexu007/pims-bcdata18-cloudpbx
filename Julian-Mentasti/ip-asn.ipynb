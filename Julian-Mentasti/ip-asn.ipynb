{
 "cells": [
  {
   "cell_type": "code",
   "execution_count": 20,
   "metadata": {
    "collapsed": true
   },
   "outputs": [],
   "source": [
    "import pandas as pd\n",
    "import os\n",
    "import geoip2.database\n",
    "import ipaddress"
   ]
  },
  {
   "cell_type": "code",
   "execution_count": 21,
   "metadata": {},
   "outputs": [],
   "source": [
    "DATA_ROOT = '/home/julian/bcdata/pims-bcdata18-cloudpbx/data'\n",
    "CSV_FILE_PATH = os.path.join(DATA_ROOT,'127.0.0.1-2018-05-2018-3-58 PM- voipmonitor-cdr.csv')\n",
    "GEOLITE_DB_PATH = os.path.join(DATA_ROOT,'GeoLite2-City.mmdb')"
   ]
  },
  {
   "cell_type": "code",
   "execution_count": 22,
   "metadata": {},
   "outputs": [
    {
     "data": {
      "text/plain": [
       "0    1.168513e+09\n1    1.168513e+09\n2    3.349639e+09\n3    3.349639e+09\n4    1.168513e+09\nName: a_saddr, dtype: float64"
      ]
     },
     "execution_count": 22,
     "metadata": {},
     "output_type": "execute_result"
    }
   ],
   "source": [
    "df = pd.read_csv(CSV_FILE_PATH)\n",
    "df[\"a_saddr\"].head()"
   ]
  },
  {
   "cell_type": "code",
   "execution_count": 23,
   "metadata": {},
   "outputs": [
    {
     "data": {
      "text/plain": [
       "0    1168513348\n1    1168513348\n2    3349638548\n3    3349638548\n4    1168513348\nName: sipcallerip, dtype: int64"
      ]
     },
     "execution_count": 23,
     "metadata": {},
     "output_type": "execute_result"
    }
   ],
   "source": [
    "df[\"sipcallerip\"].head()"
   ]
  },
  {
   "cell_type": "code",
   "execution_count": 24,
   "metadata": {},
   "outputs": [],
   "source": [
    "def toIP(x):\n",
    "    return str(ipaddress.ip_address(x))\n",
    "\n",
    "df['ipaddr'] = df[\"sipcallerip\"].apply(toIP)"
   ]
  },
  {
   "cell_type": "code",
   "execution_count": 25,
   "metadata": {},
   "outputs": [
    {
     "data": {
      "text/plain": [
       "0          69.166.25.68\n1          69.166.25.68\n2       199.167.109.148\n3       199.167.109.148\n4          69.166.25.68\n5          69.166.25.68\n6       199.167.109.148\n7       199.167.109.148\n8       199.167.109.148\n9       199.167.109.148\n10          96.55.36.91\n11          96.55.36.91\n12        184.145.99.20\n13        184.145.99.20\n14         69.166.25.68\n15         69.166.25.68\n16         69.166.25.68\n17         69.166.25.68\n18      199.167.109.148\n19      199.167.109.148\n20      199.167.109.148\n21      199.167.109.148\n22      199.167.109.148\n23      199.167.109.148\n24      199.167.109.148\n25      199.167.109.148\n26      199.167.109.148\n27      199.167.109.148\n28      199.167.109.148\n29      199.167.109.148\n             ...       \n9970     192.102.255.83\n9971     192.102.255.83\n9972     192.102.255.82\n9973     192.102.255.82\n9974     192.102.255.83\n9975     192.102.255.83\n9976     192.102.255.83\n9977     192.102.255.83\n9978     192.102.255.81\n9979     192.102.255.83\n9980     192.102.255.83\n9981     192.102.255.83\n9982     192.102.255.83\n9983     192.102.255.81\n9984     192.102.255.83\n9985     192.102.255.83\n9986       98.159.46.83\n9987     192.102.255.83\n9988     192.102.255.82\n9989     192.102.255.82\n9990     192.102.255.82\n9991     192.102.255.82\n9992     192.102.255.83\n9993     192.102.255.82\n9994     192.102.255.82\n9995     192.102.255.82\n9996     192.102.255.81\n9997     192.102.255.81\n9998     192.102.255.82\n9999       51.15.149.61\nName: ipaddr, Length: 10000, dtype: object"
      ]
     },
     "execution_count": 25,
     "metadata": {},
     "output_type": "execute_result"
    }
   ],
   "source": [
    "df['ipaddr']"
   ]
  },
  {
   "cell_type": "code",
   "execution_count": 30,
   "metadata": {},
   "outputs": [],
   "source": [
    "reader = geoip2.database.Reader(GEOLITE_DB_PATH)\n",
    "def findLon(ip):\n",
    "\n",
    "    response = reader.city(ip)\n",
    "    lon = response.location.longitude\n",
    "\n",
    "    return lon\n",
    "df['ipaddr-lon'] = df[\"ipaddr\"].apply(findLon)"
   ]
  },
  {
   "cell_type": "code",
   "execution_count": 32,
   "metadata": {},
   "outputs": [],
   "source": [
    "reader = geoip2.database.Reader(GEOLITE_DB_PATH)\n",
    "def findLat(ip):\n",
    "\n",
    "    response = reader.city(ip)\n",
    "    lat = response.location.latitude\n",
    "\n",
    "    return lat\n",
    "df['ipaddr-lat'] = df[\"ipaddr\"].apply(findLon)"
   ]
  },
  {
   "cell_type": "code",
   "execution_count": 36,
   "metadata": {},
   "outputs": [],
   "source": [
    "df.to_csv('locn.csv')"
   ]
  },
  {
   "cell_type": "code",
   "execution_count": null,
   "metadata": {},
   "outputs": [],
   "source": []
  }
 ],
 "metadata": {
  "kernelspec": {
   "display_name": "Python 2",
   "language": "python",
   "name": "python2"
  },
  "language_info": {
   "codemirror_mode": {
    "name": "ipython",
    "version": 2
   },
   "file_extension": ".py",
   "mimetype": "text/x-python",
   "name": "python",
   "nbconvert_exporter": "python",
   "pygments_lexer": "ipython2",
   "version": "2.7.6"
  }
 },
 "nbformat": 4,
 "nbformat_minor": 0
}
