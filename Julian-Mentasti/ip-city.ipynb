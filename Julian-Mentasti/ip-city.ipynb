{
 "cells": [
  {
   "cell_type": "code",
   "execution_count": 1,
   "metadata": {
    "collapsed": true
   },
   "outputs": [],
   "source": [
    "import pandas as pd\n",
    "import os\n",
    "import geoip2.database\n",
    "import ipaddress"
   ]
  },
  {
   "cell_type": "code",
   "execution_count": 10,
   "metadata": {},
   "outputs": [],
   "source": [
    "DATA_ROOT = '/home/julian/bcdata/pims-bcdata18-cloudpbx/data'\n",
    "CSV_FILE_PATH = os.path.join(DATA_ROOT,'locn-filtered.csv')\n",
    "GEOLITE_DB_PATH = os.path.join(DATA_ROOT,'GeoLite2-City.mmdb')"
   ]
  },
  {
   "cell_type": "code",
   "execution_count": 11,
   "metadata": {},
   "outputs": [],
   "source": [
    "df = pd.read_csv(CSV_FILE_PATH)"
   ]
  },
  {
   "cell_type": "code",
   "execution_count": 23,
   "metadata": {},
   "outputs": [],
   "source": [
    "reader = geoip2.database.Reader(GEOLITE_DB_PATH)\n",
    "def getCity(ip):\n",
    "    response = reader.city(str(ip))\n",
    "    city = response.city.name\n",
    "\n",
    "    return city\n",
    "\n",
    "df['caller_city_asn'] = df['ipaddr_caller'].apply(getCity)\n",
    "df['called_city_asn'] = df['ipaddr_called'].apply(getCity)\n"
   ]
  },
  {
   "cell_type": "code",
   "execution_count": 27,
   "metadata": {},
   "outputs": [
    {
     "data": {
      "text/plain": [
       "0    Mississauga\n1    Mississauga\n2        Toronto\n3        Toronto\n4    Mississauga\nName: caller_city_asn, dtype: object"
      ]
     },
     "execution_count": 27,
     "metadata": {},
     "output_type": "execute_result"
    }
   ],
   "source": [
    "df[\"caller_city_asn\"].head()"
   ]
  },
  {
   "cell_type": "code",
   "execution_count": 28,
   "metadata": {},
   "outputs": [],
   "source": [
    "df.to_csv('locn-w-cities.csv')"
   ]
  },
  {
   "cell_type": "code",
   "execution_count": null,
   "metadata": {},
   "outputs": [],
   "source": []
  }
 ],
 "metadata": {
  "kernelspec": {
   "display_name": "Python 2",
   "language": "python",
   "name": "python2"
  },
  "language_info": {
   "codemirror_mode": {
    "name": "ipython",
    "version": 2
   },
   "file_extension": ".py",
   "mimetype": "text/x-python",
   "name": "python",
   "nbconvert_exporter": "python",
   "pygments_lexer": "ipython2",
   "version": "2.7.6"
  }
 },
 "nbformat": 4,
 "nbformat_minor": 0
}
