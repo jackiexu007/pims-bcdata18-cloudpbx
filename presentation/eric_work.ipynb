{
 "cells": [
  {
   "cell_type": "code",
   "execution_count": 1,
   "metadata": {},
   "outputs": [],
   "source": [
    "\"\"\"\n",
    "       Created on Jun 7 2018\n",
    "       @author: Eric Lam\n",
    "       @Collaborated histogram w/ Conor Morrison\n",
    "\"\"\"\n",
    "import numpy as np\n",
    "from scipy import stats\n",
    "import pandas as pd\n",
    "import os\n",
    "import matplotlib.pyplot as plt\n",
    "from sklearn.metrics import *\n",
    "plt.clf()"
   ]
  },
  {
   "cell_type": "code",
   "execution_count": 2,
   "metadata": {},
   "outputs": [],
   "source": [
    "DATA_ROOT = '../'\n",
    "CSV_FILE_PATH = os.path.join('cdr_from_2018-05-01-order-calldate-asc.csv')\n"
   ]
  },
  {
   "cell_type": "code",
   "execution_count": 3,
   "metadata": {},
   "outputs": [],
   "source": [
    "HEADER = [\"ID\",\"calldate\",\"callend\",\"duration\",\"connect_duration\",\"progress_time\",\"first_rtp_time\",\"caller\",\n",
    "          \"caller_domain\",\"caller_reverse\",\"callername\",\"callername_reverse\",\"called\",\"called_domain\",\"called_reverse\",\n",
    "          \"sipcallerip\",\"sipcallerport\",\"sipcalledip\",\"sipcalledport\",\"whohanged\",\"bye\",\"lastSIPresponse_id\",\n",
    "          \"lastSIPresponseNum\",\"sighup\",\"dscp\",\"a_index\",\"b_index\",\"a_payload\",\"b_payload\",\"a_saddr\",\"b_saddr\",\n",
    "          \"a_received\",\"b_received\",\"a_lost\",\"b_lost\",\"a_ua_id\",\"b_ua_id\",\"a_avgjitter_mult10\",\"b_avgjitter_mult10\",\n",
    "          \"a_maxjitter\",\"b_maxjitter\",\"a_sl1\",\"a_sl2\",\"a_sl3\",\"a_sl4\",\"a_sl5\",\"a_sl6\",\"a_sl7\",\"a_sl8\",\"a_sl9\",\"a_sl10\",\n",
    "          \"a_d50\",\"a_d70\",\"a_d90\",\"a_d120\",\"a_d150\",\"a_d200\",\"a_d300\",\"b_sl1\",\"b_sl2\",\"b_sl3\",\"b_sl4\",\"b_sl5\",\"b_sl6\",\"b_sl7\",\n",
    "          \"b_sl8\",\"b_sl9\",\"b_sl10\",\"b_d50\",\"b_d70\",\"b_d90\",\"b_d120\",\"b_d150\",\"b_d200\",\"b_d300\",\"a_mos_lqo_mult10\",\n",
    "          \"b_mos_lqo_mult10\",\"a_mos_f1_mult10\",\"a_mos_f2_mult10\",\"a_mos_adapt_mult10\",\"b_mos_f1_mult10\",\"b_mos_f2_mult10\",\n",
    "          \"b_mos_adapt_mult10\",\"a_rtcp_loss\",\"a_rtcp_maxfr\",\"a_rtcp_avgfr_mult10\",\"a_rtcp_maxjitter\",\"a_rtcp_avgjitter_mult10\",\n",
    "          \"b_rtcp_loss\",\"b_rtcp_maxfr\",\"b_rtcp_avgfr_mult10\",\"b_rtcp_maxjitter\",\"b_rtcp_avgjitter_mult10\",\"a_last_rtp_from_end\",\n",
    "          \"b_last_rtp_from_end\",\"payload\",\"jitter_mult10\",\"mos_min_mult10\",\"a_mos_min_mult10\",\"b_mos_min_mult10\",\n",
    "          \"packet_loss_perc_mult1000\",\"a_packet_loss_perc_mult1000\",\"b_packet_loss_perc_mult1000\",\"delay_sum\",\"a_delay_sum\",\n",
    "          \"b_delay_sum\",\"delay_avg_mult100\",\"a_delay_avg_mult100\",\"b_delay_avg_mult100\",\"delay_cnt\",\"a_delay_cnt\",\n",
    "          \"b_delay_cnt\",\"rtcp_avgfr_mult10\",\"rtcp_avgjitter_mult10\",\"lost\",\"id_sensor\",\"price_operator_mult100\",\n",
    "          \"price_operator_currency_id\",\"price_customer_mult100\",\"price_customer_currency_id\",\"reason_sip_cause\",\n",
    "          \"reason_sip_text_id\",\"reason_q850_cause\",\"reason_q850_text_id\",\"caller_silence\",\"called_silence\",\n",
    "          \"caller_silence_end\",\"called_silence_end\",\"a_mos_xr_min_mult10\",\"b_mos_xr_min_mult10\",\"a_mos_xr_mult10\",\n",
    "          \"b_mos_xr_mult10\",\"response_time_100\",\"response_time_xxx\",\"a_mos_f1_min_mult10\",\"a_mos_f2_min_mult10\",\n",
    "          \"a_mos_adapt_min_mult10\",\"b_mos_f1_min_mult10\",\"b_mos_f2_min_mult10\",\"b_mos_adapt_min_mult10\",\"a_rtp_ptime\",\n",
    "          \"b_rtp_ptime\",\"flags\"]"
   ]
  },
  {
   "cell_type": "code",
   "execution_count": null,
   "metadata": {},
   "outputs": [
    {
     "name": "stderr",
     "output_type": "stream",
     "text": [
      "/opt/conda/lib/python3.6/site-packages/IPython/core/interactiveshell.py:2785: DtypeWarning: Columns (95,97,98,99,132) have mixed types. Specify dtype option on import or set low_memory=False.\n",
      "  interactivity=interactivity, compiler=compiler, result=result)\n"
     ]
    }
   ],
   "source": [
    "df = pd.read_csv(CSV_FILE_PATH, names=HEADER)\n"
   ]
  },
  {
   "cell_type": "code",
   "execution_count": null,
   "metadata": {},
   "outputs": [],
   "source": [
    "df = df[HEADER]\n",
    "#df['duration_td'] = df.callend - df.calldate"
   ]
  },
  {
   "cell_type": "code",
   "execution_count": null,
   "metadata": {},
   "outputs": [],
   "source": [
    "#### procure data -> Delay_Sum, Jitter, MOS\n",
    "sum_pkt_loss_a =  df['a_sl1'] + df['a_sl2'] + df['a_sl3'] +\\\n",
    "      df['a_sl4'] + df['a_sl5'] + df['a_sl6'] + df['a_sl7'] + \\\n",
    "      df['a_sl8'] + df['a_sl9'] + df['a_sl10'] \n",
    "\n",
    "sum_pkt_loss_b =  df['b_sl1'] + df['b_sl2'] + df['b_sl3'] +\\\n",
    "      df['b_sl4'] + df['b_sl5'] + df['b_sl6'] + df['b_sl7'] + \\\n",
    "      df['b_sl8'] + df['b_sl9'] + df['b_sl10'] \n",
    "# avg_pkt_loss = optional b/c 0's can be in either row for the same thing"
   ]
  },
  {
   "cell_type": "code",
   "execution_count": null,
   "metadata": {},
   "outputs": [],
   "source": [
    "\n",
    "xi_a = df[['delay_sum','a_maxjitter','a_mos_adapt_mult10','a_mos_f1_mult10', 'a_mos_f2_mult10']].values\n",
    "x_a = np.zeros((xi_a.shape[0], xi_a.shape[1]+1))\n",
    "x_a[:,:-1] = xi_a\n",
    "x_a[:,-1] = np.ones(xi_a.shape[0])\n",
    "\n",
    "xi_b = df[['delay_sum','b_maxjitter','b_mos_adapt_mult10','b_mos_f1_mult10', 'b_mos_f2_mult10']].values\n",
    "x_b = np.zeros((xi_b.shape[0], xi_b.shape[1]+1))\n",
    "x_b[:,:-1] = xi_b\n",
    "x_b[:,-1] = np.ones(xi_b.shape[0])"
   ]
  },
  {
   "cell_type": "code",
   "execution_count": null,
   "metadata": {},
   "outputs": [],
   "source": [
    "####### Multi-Linear Regression W/ Packet Loss (A) & MOS\n",
    "\n",
    "fig1 = plt.figure(1)\n",
    "y = sum_pkt_loss_a.values\n",
    "m = np.linalg.lstsq(x_a,y)\n",
    "yfit = x_a.dot(m[0])\n",
    "# print (yfit.shape, y.shape, m[0].shape, x_a.shape)\n",
    "i = range(len(y))\n",
    "print(m[0])\n",
    "plt.plot(i,y,'ro')\n",
    "plt.plot(i,yfit,':')\n",
    "plt.title('Multi-Linear Regression w/ Packet Loss & MOS Version (A)')\n",
    "plt.xlabel('Data Points Numbers')\n",
    "plt.ylabel('Regression')\n",
    "fig1.show()\n",
    "# print('x_a ',x_a,'\\n y \\n', y)\n",
    "reg_score = np.corrcoef(y, yfit)[0, 1]**2\n",
    "print('Regression Score of Packet Loss & Mos Version A', reg_score)\n",
    "\n",
    "# plt.show()\n"
   ]
  },
  {
   "cell_type": "code",
   "execution_count": null,
   "metadata": {},
   "outputs": [],
   "source": [
    "####### Multi-Linear Regression W/ Packet Loss (B) & MOS\n",
    "fig2 = plt.figure(2)\n",
    "y0 = sum_pkt_loss_b.values\n",
    "m0 = np.linalg.lstsq(x_b,y0)\n",
    "yfit0 = x_b.dot(m0[0])\n",
    "# print (yfit0.shape, y0.shape, m0[0].shape, x_b.shape)\n",
    "i0 = range(len(y0))\n",
    "print(m0[0])\n",
    "plt.plot(i, y0, 'ro')\n",
    "plt.plot(i,yfit0,':')\n",
    "plt.title('Multi-Linear Regression w/ Packet Loss & MOS Version (B)')\n",
    "plt.xlabel('Data Points Numbers')\n",
    "plt.ylabel('Regression')\n",
    "fig2.show()\n",
    "reg_score0 = np.corrcoef(y0, yfit0)[0, 1]**2\n",
    "print('Regression Score of Packet Loss & Mos Version B', reg_score0)\n",
    "# plt.show()\n",
    "\n",
    "#######################################################################\n"
   ]
  },
  {
   "cell_type": "code",
   "execution_count": null,
   "metadata": {},
   "outputs": [],
   "source": [
    "'''\n",
    "Multi-Linear regression: data is extremely noisy and messy\n",
    "- no relationship between the variables \n",
    "- correlation score is extremely poor -> reject correlation between the variables \n",
    "- indication poor \n",
    "\n",
    "'''"
   ]
  },
  {
   "cell_type": "code",
   "execution_count": null,
   "metadata": {},
   "outputs": [],
   "source": [
    "mindurcalls=df\n",
    "mindurcalls['connect_duration'].fillna(value=0, inplace=True)\n",
    "mindurcalls = mindurcalls[~pd.isnull(mindurcalls['connect_duration'])]\n",
    "binwidth = 5\n",
    "bins_hist = range(0, 45 + binwidth, binwidth)\n",
    "\n",
    "###### Histogram part A\n",
    "fig3 = plt.figure(3)\n",
    "\n",
    "mos_a1 = mindurcalls['a_mos_f1_mult10'].fillna(0)\n",
    "mos_a2 = mindurcalls['a_mos_f2_mult10'].fillna(0)\n",
    "mos_adapt_a = mindurcalls['a_mos_adapt_mult10'].fillna(0)\n",
    "\n",
    "hist_dataA = [mos_a1, mos_a2, mos_adapt_a]\n",
    "hist_labels = ['a_mos_f1_mult10','a_mos_f2_mult10','a_mos_adapt_mult10']\n",
    "plt.hist(hist_dataA, bins = bins_hist , alpha=1, label= hist_labels)\n",
    "plt.legend(loc='upper left')\n",
    "plt.grid(True)\n",
    "plt.axis([0, 45, 0, 6000],'scaled')\n",
    "plt.xlabel('MOS Scores')\n",
    "plt.ylabel('Frequency')\n",
    "plt.title('Histogram w/ MOS (A)')\n",
    "fig3.show()"
   ]
  },
  {
   "cell_type": "code",
   "execution_count": null,
   "metadata": {},
   "outputs": [],
   "source": [
    "###### Histogram part B\n",
    "fig4 = plt.figure(4)\n",
    "\n",
    "mos_b1 = mindurcalls['b_mos_f1_mult10'].fillna(0)\n",
    "mos_b2 = mindurcalls['b_mos_f2_mult10'].fillna(0)\n",
    "mos_adapt_b = mindurcalls['b_mos_adapt_mult10'].fillna(0)\n",
    "\n",
    "hist_dataB = [mos_b1, mos_b2, mos_adapt_b]\n",
    "hist_labels = ['b_mos_f1_mult10','b_mos_f2_mult10','b_mos_adapt_mult10']\n",
    "plt.hist(hist_dataB, bins_hist, alpha=1, label= hist_labels)\n",
    "plt.legend(loc='upper left')\n",
    "plt.grid(True)\n",
    "plt.axis([0, 45, 0, 6000],'scaled')\n",
    "plt.xlabel('MOS Scores')\n",
    "plt.ylabel('Frequency')\n",
    "plt.title('Histogram w/ MOS (B)')\n",
    "fig4.show()\n",
    "\n",
    "plt.show()"
   ]
  },
  {
   "cell_type": "code",
   "execution_count": null,
   "metadata": {},
   "outputs": [],
   "source": [
    "'''\n",
    "Histogram\n",
    "'''"
   ]
  }
 ],
 "metadata": {
  "kernelspec": {
   "display_name": "Python 3",
   "language": "python",
   "name": "python3"
  },
  "language_info": {
   "codemirror_mode": {
    "name": "ipython",
    "version": 3
   },
   "file_extension": ".py",
   "mimetype": "text/x-python",
   "name": "python",
   "nbconvert_exporter": "python",
   "pygments_lexer": "ipython3",
   "version": "3.6.5"
  }
 },
 "nbformat": 4,
 "nbformat_minor": 2
}
