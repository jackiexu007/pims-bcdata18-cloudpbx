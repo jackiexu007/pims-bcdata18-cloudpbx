{
 "cells": [
  {
   "cell_type": "code",
   "execution_count": 101,
   "metadata": {
    "collapsed": true
   },
   "outputs": [],
   "source": [
    "import pandas as pd\n",
    "import os\n",
    "import geoip2.database"
   ]
  },
  {
   "cell_type": "code",
   "execution_count": 102,
   "metadata": {},
   "outputs": [
    {
     "data": {
      "text/plain": [
       "(5432, 161)"
      ]
     },
     "execution_count": 102,
     "metadata": {},
     "output_type": "execute_result"
    }
   ],
   "source": [
    "DATA_ROOT = '/home/julian/bcdata/pims-bcdata18-cloudpbx/data'\n",
    "CSV_FILE_PATH = os.path.join(DATA_ROOT,'locn-w-cities.csv')\n",
    "df = pd.read_csv(CSV_FILE_PATH)\n",
    "df.shape"
   ]
  },
  {
   "cell_type": "code",
   "execution_count": 103,
   "metadata": {},
   "outputs": [],
   "source": [
    "def evaluaterow(a1, a2, a3, a4, a5, a6, a7, a8, a9, a10, b1, b2, b3, b4, b5, b6, b7, b8, b9, b10, a_delay_sum, b_delay_sum, connect_duration):\n",
    "\n",
    "    a_top_sum = get_top_sum(a1, a2, a3, a4, a5, a6, a7, a8, a9, a10, a_delay_sum)\n",
    "    b_top_sum = get_top_sum(b1, b2, b3, b4, b5, b6, b7, b8, b9, b10, b_delay_sum)\n",
    "    \n",
    "    a_bot_sum = get_bot_sum(a1, a2, a3, a4, a5, a6, a7, a8, a9, a10, connect_duration)\n",
    "    b_bot_sum = get_bot_sum(b1, b2, b3, b4, b5, b6, b7, b8, b9, b10, connect_duration)\n",
    "    \n",
    "    sum_a = a_top_sum/a_bot_sum\n",
    "    sum_b = b_top_sum/b_bot_sum\n",
    "\n",
    "    total_sum = (sum_a+sum_b)/2\n",
    "    \n",
    "    return total_sum\n",
    "    \n",
    "def get_top_sum(a1, a2, a3, a4, a5, a6, a7, a8, a9, a10, delay_sum):\n",
    "    top_sum = 0\n",
    "    n = 1\n",
    "    w1 = 1\n",
    "    w2 = 1\n",
    "    w3 = 1\n",
    "    w4 = 1\n",
    "    w5 = 1\n",
    "    w6 = 1\n",
    "    w7 = 1\n",
    "    w8 = 1\n",
    "    w9 = 1\n",
    "    w10 = 1\n",
    "    \n",
    "    top_sum += 20*n*(a1)*w1\n",
    "    n += 1\n",
    "    top_sum += 20*n*(a2)*w2\n",
    "    n += 1\n",
    "    top_sum += 20*n*(a3)*w3\n",
    "    n += 1\n",
    "    top_sum += 20*n*(a4)*w4\n",
    "    n +=1\n",
    "    top_sum += 20*n*(a5)*w5\n",
    "    n += 1\n",
    "    top_sum += 20*n*(a6)*w6\n",
    "    n += 1\n",
    "    top_sum += 20*n*(a7)*w7\n",
    "    n +=1\n",
    "    top_sum += 20*n*(a8)*w8\n",
    "    n += 1\n",
    "    top_sum += 20*n*(a9)*w9\n",
    "    n += 1\n",
    "    top_sum += 20*n*(a10)*w10\n",
    "    \n",
    "    return(top_sum + delay_sum)\n",
    "\n",
    "def get_bot_sum(a1, a2, a3, a4, a5, a6, a7, a8, a9, a10, connect_duration):\n",
    "    \n",
    "    bot_sum = 0\n",
    "    n = 1\n",
    "    w1 = 1\n",
    "    w2 = 1\n",
    "    w3 = 1\n",
    "    w4 = 1\n",
    "    w5 = 1\n",
    "    w6 = 1\n",
    "    w7 = 1\n",
    "    w8 = 1\n",
    "    w9 = 1\n",
    "    w10 = 1\n",
    "    \n",
    "    bot_sum += 20*n*(a1)*(w1-1)\n",
    "    n += 1\n",
    "    bot_sum += 20*n*(a2)*(w2-1)\n",
    "    n += 1\n",
    "    bot_sum += 20*n*(a3)*(w3-1)\n",
    "    n += 1\n",
    "    bot_sum += 20*n*(a4)*(w4-1)\n",
    "    n +=1\n",
    "    bot_sum += 20*n*(a5)*(w5-1)\n",
    "    n += 1\n",
    "    bot_sum += 20*n*(a6)*(w6-1)\n",
    "    n += 1\n",
    "    bot_sum += 20*n*(a7)*(w7-1)\n",
    "    n +=1\n",
    "    bot_sum += 20*n*(a8)*(w8-1)\n",
    "    n += 1\n",
    "    bot_sum += 20*n*(a9)*(w9-1)\n",
    "    n += 1\n",
    "    bot_sum += 20*n*(a10)*(w10-1)\n",
    "    \n",
    "    \n",
    "    return(bot_sum + connect_duration)\n",
    "    \n"
   ]
  },
  {
   "cell_type": "code",
   "execution_count": 104,
   "metadata": {},
   "outputs": [],
   "source": [
    "df['Qualfun'] = df.apply(lambda df: pd.Series(evaluaterow(df['a_sl1'],df['a_sl2'],df['a_sl3'],df['a_sl4'],df['a_sl5'],df['a_sl6'],df['a_sl7'],df['a_sl8'],df['a_sl9'],df['a_sl10'],df['b_sl1'],df['b_sl2'],df['b_sl3'],df['b_sl4'],df['b_sl5'],df['b_sl6'],df['b_sl7'],df['b_sl8'],df['b_sl9'],df['b_sl10'],df['a_delay_sum'],df['b_delay_sum'],df['connect_duration'])), axis=1)"
   ]
  },
  {
   "cell_type": "code",
   "execution_count": 105,
   "metadata": {},
   "outputs": [
    {
     "data": {
      "text/plain": [
       "0       3.103448\n1       3.103448\n2       0.000000\n3       0.000000\n4       0.000000\n5       0.000000\n6       1.589862\n7       1.428571\n8       0.188679\n9       0.091533\n10      0.000000\n11      0.000000\n12      0.329670\n13      0.329670\n14      0.293062\n15      0.227273\n16      0.000000\n17      0.000000\n18      6.477273\n19      6.250000\n20      0.000000\n21      0.144928\n22      0.208333\n23      0.000000\n24      0.000000\n25      0.000000\n26      0.000000\n27      0.000000\n28      0.090090\n29      0.000000\n          ...   \n5402    0.000000\n5403    0.000000\n5404    0.000000\n5405    0.102041\n5406    0.448301\n5407    0.000000\n5408    0.000000\n5409    0.342278\n5410    0.178411\n5411    0.074627\n5412    0.080000\n5413    0.074074\n5414    0.000000\n5415    0.000000\n5416    0.000000\n5417    0.024096\n5418    0.000000\n5419    0.000000\n5420    0.042194\n5421    1.250000\n5422    1.250000\n5423    0.263158\n5424    0.000000\n5425    0.040984\n5426    0.000000\n5427    0.126582\n5428    0.000000\n5429    0.000000\n5430    0.000000\n5431    0.000000\nName: Qualfun, Length: 5432, dtype: float64"
      ]
     },
     "execution_count": 105,
     "metadata": {},
     "output_type": "execute_result"
    }
   ],
   "source": [
    "df['Qualfun']"
   ]
  },
  {
   "cell_type": "code",
   "execution_count": 106,
   "metadata": {},
   "outputs": [],
   "source": [
    "filter1 = df[\"Qualfun\"] > 1"
   ]
  },
  {
   "cell_type": "code",
   "execution_count": 107,
   "metadata": {},
   "outputs": [
    {
     "data": {
      "text/plain": [
       "(5432,)"
      ]
     },
     "execution_count": 107,
     "metadata": {},
     "output_type": "execute_result"
    }
   ],
   "source": [
    "filter1.shape"
   ]
  },
  {
   "cell_type": "code",
   "execution_count": 108,
   "metadata": {},
   "outputs": [],
   "source": [
    "db = df[filter1]"
   ]
  },
  {
   "cell_type": "code",
   "execution_count": 109,
   "metadata": {},
   "outputs": [
    {
     "data": {
      "text/plain": [
       "48762"
      ]
     },
     "execution_count": 109,
     "metadata": {},
     "output_type": "execute_result"
    }
   ],
   "source": [
    "db.size"
   ]
  },
  {
   "cell_type": "code",
   "execution_count": 43,
   "metadata": {},
   "outputs": [],
   "source": [
    "da.to_csv('small-sample.csv')"
   ]
  },
  {
   "cell_type": "code",
   "execution_count": null,
   "metadata": {},
   "outputs": [],
   "source": []
  }
 ],
 "metadata": {
  "kernelspec": {
   "display_name": "Python 2",
   "language": "python",
   "name": "python2"
  },
  "language_info": {
   "codemirror_mode": {
    "name": "ipython",
    "version": 2
   },
   "file_extension": ".py",
   "mimetype": "text/x-python",
   "name": "python",
   "nbconvert_exporter": "python",
   "pygments_lexer": "ipython2",
   "version": "2.7.6"
  }
 },
 "nbformat": 4,
 "nbformat_minor": 0
}
