{
 "cells": [
  {
   "cell_type": "code",
   "execution_count": 1,
   "metadata": {},
   "outputs": [],
   "source": [
    "import numpy as np\n",
    "import pandas as pd\n",
    "import geoip2.database\n",
    "import ipaddress\n",
    "import os"
   ]
  },
  {
   "cell_type": "code",
   "execution_count": 2,
   "metadata": {},
   "outputs": [],
   "source": [
    "#DATA_ROOT = 'data/workshop-content18/5-cloudpbx/data/cloudpbx_sample_data_10k/'\n",
    "CSV_FILE_PATH = os.path.join('pims_cloudpbx_subset_201806051550_1million.csv')\n",
    "#CSV_FILE_PATH = os.path.join('locn-filtered.csv')\n",
    "GEOLITE_ASN_PATH = os.path.join('GeoLite2-ASN.mmdb')\n",
    "GEOLITE_CITY_PATH = os.path.join('GeoLite2-City.mmdb')"
   ]
  },
  {
   "cell_type": "code",
   "execution_count": 3,
   "metadata": {},
   "outputs": [
    {
     "name": "stderr",
     "output_type": "stream",
     "text": [
      "/opt/conda/lib/python3.6/site-packages/IPython/core/interactiveshell.py:2785: DtypeWarning: Columns (14) have mixed types. Specify dtype option on import or set low_memory=False.\n",
      "  interactivity=interactivity, compiler=compiler, result=result)\n"
     ]
    }
   ],
   "source": [
    "# read dataframe\n",
    "df = pd.read_csv(CSV_FILE_PATH,delim_whitespace=True)"
   ]
  },
  {
   "cell_type": "code",
   "execution_count": 4,
   "metadata": {},
   "outputs": [],
   "source": [
    "DESCRIBED_COLUMNS = [#\"sipcallerip\", \"sipcalledip\", \n",
    "    \"a_saddr\", \"b_saddr\"]\n",
    "                     #\"ipaddr_caller\",\"ipaddr_called\",\n",
    "                     #\"ipaddr_lat_sip_caller\",\"ipaddr_lat_ip_called\",\"ipaddr_lons_ip_caller\",\"ipaddr_lons_ip_called\",\n",
    "                     #\"sipcallerasn\",\"sipcallerasorg\",\"sipcalledasn\",\"sipcalledasorg\",\n",
    "                     #\"a_saddr_asn\",\"a_saddr_asorg\",\"b_saddr_asn\",\"b_saddr_asorg\"]"
   ]
  },
  {
   "cell_type": "code",
   "execution_count": 21,
   "metadata": {},
   "outputs": [],
   "source": [
    "df_geo = df[DESCRIBED_COLUMNS]"
   ]
  },
  {
   "cell_type": "code",
   "execution_count": 22,
   "metadata": {},
   "outputs": [],
   "source": [
    "df_geo = df_geo.drop_duplicates()"
   ]
  },
  {
   "cell_type": "markdown",
   "metadata": {},
   "source": [
    "## Link IP addresses to ASN"
   ]
  },
  {
   "cell_type": "code",
   "execution_count": 23,
   "metadata": {},
   "outputs": [],
   "source": [
    "# initiate geoip client\n",
    "readerASN = geoip2.database.Reader(GEOLITE_ASN_PATH)\n",
    "readerCITY = geoip2.database.Reader(GEOLITE_CITY_PATH)"
   ]
  },
  {
   "cell_type": "code",
   "execution_count": 24,
   "metadata": {},
   "outputs": [],
   "source": [
    "# functions to get AS info\n",
    "def getASobject(x):\n",
    "    ip = ipaddress.ip_address(x)\n",
    "    try: return readerASN.asn(str(ip))\n",
    "    except: return \"The address {} is not in the database.\".format(ip)\n",
    "def getIP(x):\n",
    "    if type(x) == str: return x\n",
    "    return x.ip_address\n",
    "def getASN(x):\n",
    "    if type(x) == str: return x\n",
    "    return x.autonomous_system_number\n",
    "def getASorg(x):\n",
    "    if type(x) == str: return x\n",
    "    return x.autonomous_system_organization\n",
    "def getInt(x):\n",
    "    return int(x)"
   ]
  },
  {
   "cell_type": "code",
   "execution_count": null,
   "metadata": {},
   "outputs": [],
   "source": [
    "####\n",
    "#\n",
    "# Decided not to include SIP\n",
    "#\n",
    "# making a vector of AS objects for sipcaller\n",
    "#V = df['sipcallerip'].apply(getASobject)\n",
    "# adding columns to the data frame\n",
    "#df['sipcallerasn'] = V.apply(getASN)\n",
    "#df['sipcallerasorg'] = V.apply(getASorg)"
   ]
  },
  {
   "cell_type": "code",
   "execution_count": 44,
   "metadata": {},
   "outputs": [],
   "source": [
    "####\n",
    "#\n",
    "# Decided not to include SIP\n",
    "#\n",
    "# making a vector of AS objects for sipcalled\n",
    "#V = df['sipcalledip'].apply(getASobject)\n",
    "# adding columns to the data frame\n",
    "#df['sipcalledasn'] = V.apply(getASN)\n",
    "#df['sipcalledasorg'] = V.apply(getASorg)"
   ]
  },
  {
   "cell_type": "code",
   "execution_count": 26,
   "metadata": {},
   "outputs": [],
   "source": [
    "# making a vector of AS objects for sipcalled\n",
    "V = df_geo['a_saddr'].apply(getASobject)\n",
    "# adding columns to the data frame\n",
    "df_geo['a_saddr_asn'] = V.apply(getASN)\n",
    "df_geo['a_saddr_asorg'] = V.apply(getASorg)\n",
    "df_geo['a_saddr_asip'] = V.apply(getIP)"
   ]
  },
  {
   "cell_type": "code",
   "execution_count": 27,
   "metadata": {},
   "outputs": [],
   "source": [
    "# making a vector of AS objects for sipcalled\n",
    "V = df_geo['b_saddr'].apply(getASobject)\n",
    "# adding columns to the data frame\n",
    "df_geo['b_saddr_asn'] = V.apply(getASN)\n",
    "df_geo['b_saddr_asorg'] = V.apply(getASorg)\n",
    "df_geo['b_saddr_asip'] = V.apply(getIP)"
   ]
  },
  {
   "cell_type": "code",
   "execution_count": null,
   "metadata": {},
   "outputs": [],
   "source": []
  }
 ],
 "metadata": {
  "kernelspec": {
   "display_name": "Python 3",
   "language": "python",
   "name": "python3"
  },
  "language_info": {
   "codemirror_mode": {
    "name": "ipython",
    "version": 3
   },
   "file_extension": ".py",
   "mimetype": "text/x-python",
   "name": "python",
   "nbconvert_exporter": "python",
   "pygments_lexer": "ipython3",
   "version": "3.6.5"
  }
 },
 "nbformat": 4,
 "nbformat_minor": 2
}
