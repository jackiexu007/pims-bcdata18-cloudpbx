{
 "cells": [
  {
   "cell_type": "markdown",
   "metadata": {},
   "source": [
    "Stefan Hannie"
   ]
  },
  {
   "cell_type": "markdown",
   "metadata": {},
   "source": [
    "# Notebook for getting a nice table for graphing data\n",
    "\n",
    "This notebook takes in the dataset and returns a table containing all unique pairs of people calling each other with relavent data necessary for creating a graph-like object visualized over a map of Canada. That is, it filters the cdr table for unique a_saddr and b_saddr pairs (unique rtp pairings). It then feeds this table through geolite (and ipaddress) to obtain human readable information such as ASN information and latitude/longitude.\n",
    "\n",
    "It also creates smaller tables centered around Vancouver, Toronto, and Montreal (where CloudPBX has servers) in the instance that smaller graph-like objects and maps desire to be created."
   ]
  },
  {
   "cell_type": "code",
   "execution_count": 10,
   "metadata": {},
   "outputs": [],
   "source": [
    "import numpy as np\n",
    "import pandas as pd\n",
    "import geoip2.database\n",
    "import ipaddress\n",
    "import os\n",
    "import dask.dataframe as dd"
   ]
  },
  {
   "cell_type": "code",
   "execution_count": 11,
   "metadata": {},
   "outputs": [],
   "source": [
    "DATA_ROOT = 'files/'\n",
    "CSV_FILE_PATH = os.path.join(DATA_ROOT + 'cdr_from_2018-05-01-order-calldate-asc.csv')\n",
    "GEOLITE_ASN_PATH = os.path.join(DATA_ROOT + 'GeoLite2-ASN.mmdb')\n",
    "GEOLITE_CITY_PATH = os.path.join(DATA_ROOT + 'GeoLite2-City.mmdb')"
   ]
  },
  {
   "cell_type": "code",
   "execution_count": 12,
   "metadata": {},
   "outputs": [],
   "source": [
    "HEADER = [\"ID\",\"calldate\",\"callend\",\"duration\",\"connect_duration\",\"progress_time\",\"first_rtp_time\",\"caller\",\n",
    "          \"caller_domain\",\"caller_reverse\",\"callername\",\"callername_reverse\",\"called\",\"called_domain\",\"called_reverse\",\n",
    "          \"sipcallerip\",\"sipcallerport\",\"sipcalledip\",\"sipcalledport\",\"whohanged\",\"bye\",\"lastSIPresponse_id\",\n",
    "          \"lastSIPresponseNum\",\"sighup\",\"dscp\",\"a_index\",\"b_index\",\"a_payload\",\"b_payload\",\"a_saddr\",\"b_saddr\",\n",
    "          \"a_received\",\"b_received\",\"a_lost\",\"b_lost\",\"a_ua_id\",\"b_ua_id\",\"a_avgjitter_mult10\",\"b_avgjitter_mult10\",\n",
    "          \"a_maxjitter\",\"b_maxjitter\",\"a_sl1\",\"a_sl2\",\"a_sl3\",\"a_sl4\",\"a_sl5\",\"a_sl6\",\"a_sl7\",\"a_sl8\",\"a_sl9\",\"a_sl10\",\n",
    "          \"a_d50\",\"a_d70\",\"a_d90\",\"a_d120\",\"a_d150\",\"a_d200\",\"a_d300\",\"b_sl1\",\"b_sl2\",\"b_sl3\",\"b_sl4\",\"b_sl5\",\"b_sl6\",\"b_sl7\",\n",
    "          \"b_sl8\",\"b_sl9\",\"b_sl10\",\"b_d50\",\"b_d70\",\"b_d90\",\"b_d120\",\"b_d150\",\"b_d200\",\"b_d300\",\"a_mos_lqo_mult10\",\n",
    "          \"b_mos_lqo_mult10\",\"a_mos_f1_mult10\",\"a_mos_f2_mult10\",\"a_mos_adapt_mult10\",\"b_mos_f1_mult10\",\"b_mos_f2_mult10\",\n",
    "          \"b_mos_adapt_mult10\",\"a_rtcp_loss\",\"a_rtcp_maxfr\",\"a_rtcp_avgfr_mult10\",\"a_rtcp_maxjitter\",\"a_rtcp_avgjitter_mult10\",\n",
    "          \"b_rtcp_loss\",\"b_rtcp_maxfr\",\"b_rtcp_avgfr_mult10\",\"b_rtcp_maxjitter\",\"b_rtcp_avgjitter_mult10\",\"a_last_rtp_from_end\",\n",
    "          \"b_last_rtp_from_end\",\"payload\",\"jitter_mult10\",\"mos_min_mult10\",\"a_mos_min_mult10\",\"b_mos_min_mult10\",\n",
    "          \"packet_loss_perc_mult1000\",\"a_packet_loss_perc_mult1000\",\"b_packet_loss_perc_mult1000\",\"delay_sum\",\"a_delay_sum\",\n",
    "          \"b_delay_sum\",\"delay_avg_mult100\",\"a_delay_avg_mult100\",\"b_delay_avg_mult100\",\"delay_cnt\",\"a_delay_cnt\",\n",
    "          \"b_delay_cnt\",\"rtcp_avgfr_mult10\",\"rtcp_avgjitter_mult10\",\"lost\",\"id_sensor\",\"price_operator_mult100\",\n",
    "          \"price_operator_currency_id\",\"price_customer_mult100\",\"price_customer_currency_id\",\"reason_sip_cause\",\n",
    "          \"reason_sip_text_id\",\"reason_q850_cause\",\"reason_q850_text_id\",\"caller_silence\",\"called_silence\",\n",
    "          \"caller_silence_end\",\"called_silence_end\",\"a_mos_xr_min_mult10\",\"b_mos_xr_min_mult10\",\"a_mos_xr_mult10\",\n",
    "          \"b_mos_xr_mult10\",\"response_time_100\",\"response_time_xxx\",\"a_mos_f1_min_mult10\",\"a_mos_f2_min_mult10\",\n",
    "          \"a_mos_adapt_min_mult10\",\"b_mos_f1_min_mult10\",\"b_mos_f2_min_mult10\",\"b_mos_adapt_min_mult10\",\"a_rtp_ptime\",\n",
    "          \"b_rtp_ptime\",\"flags\"]"
   ]
  },
  {
   "cell_type": "code",
   "execution_count": 13,
   "metadata": {},
   "outputs": [
    {
     "name": "stderr",
     "output_type": "stream",
     "text": [
      "/opt/conda/lib/python3.6/site-packages/IPython/core/interactiveshell.py:2785: DtypeWarning: Columns (95,97,98,99,132) have mixed types. Specify dtype option on import or set low_memory=False.\n",
      "  interactivity=interactivity, compiler=compiler, result=result)\n"
     ]
    }
   ],
   "source": [
    "# read dataframe\n",
    "df = pd.read_csv(CSV_FILE_PATH, names=HEADER)\n",
    "df_sub = pd.read_csv(DATA_ROOT + 'distinct_subrip_cpbxip.csv')"
   ]
  },
  {
   "cell_type": "markdown",
   "metadata": {},
   "source": [
    "### make a table containing only rtp ip information"
   ]
  },
  {
   "cell_type": "code",
   "execution_count": 14,
   "metadata": {},
   "outputs": [
    {
     "data": {
      "text/plain": [
       "(1374842, 2)"
      ]
     },
     "execution_count": 14,
     "metadata": {},
     "output_type": "execute_result"
    }
   ],
   "source": [
    "DESCRIBED_COLUMNS = [\"a_saddr\", \"b_saddr\"]\n",
    "df_geo = df[DESCRIBED_COLUMNS]\n",
    "df_geo.shape"
   ]
  },
  {
   "cell_type": "markdown",
   "metadata": {},
   "source": [
    "filtering out the carrier ips, keep only the service (?) ips"
   ]
  },
  {
   "cell_type": "code",
   "execution_count": 15,
   "metadata": {},
   "outputs": [
    {
     "data": {
      "text/plain": [
       "(601169, 2)"
      ]
     },
     "execution_count": 15,
     "metadata": {},
     "output_type": "execute_result"
    }
   ],
   "source": [
    "df_geo = df_geo.loc[df_geo['a_saddr'].isin(df_sub['subsriber_reg_ip']) | df_geo['b_saddr'].isin(df_sub['subsriber_reg_ip'])]\n",
    "df_geo.shape"
   ]
  },
  {
   "cell_type": "markdown",
   "metadata": {},
   "source": [
    "get rid of duplicate pairs"
   ]
  },
  {
   "cell_type": "code",
   "execution_count": 16,
   "metadata": {},
   "outputs": [
    {
     "data": {
      "text/plain": [
       "(4072, 2)"
      ]
     },
     "execution_count": 16,
     "metadata": {},
     "output_type": "execute_result"
    }
   ],
   "source": [
    "df_geo_unique_ip = df_geo.drop_duplicates()\n",
    "df_geo_unique_ip.shape"
   ]
  },
  {
   "cell_type": "markdown",
   "metadata": {},
   "source": [
    "count occurences of each pair in the original dataset"
   ]
  },
  {
   "cell_type": "markdown",
   "metadata": {},
   "source": [
    "## Link IP addresses to ASN"
   ]
  },
  {
   "cell_type": "code",
   "execution_count": 17,
   "metadata": {},
   "outputs": [],
   "source": [
    "# initiate geoip client\n",
    "readerASN = geoip2.database.Reader(GEOLITE_ASN_PATH)\n",
    "readerCITY = geoip2.database.Reader(GEOLITE_CITY_PATH)"
   ]
  },
  {
   "cell_type": "code",
   "execution_count": 18,
   "metadata": {},
   "outputs": [],
   "source": [
    "# functions to get AS info\n",
    "def getASobject(x):\n",
    "    ip = ipaddress.ip_address(x)\n",
    "    try: return readerASN.asn(str(ip))\n",
    "    except: return \"The address {} is not in the database.\".format(ip)\n",
    "def getIP(x):\n",
    "    if type(x) == str: return x\n",
    "    return x.ip_address\n",
    "def getASN(x):\n",
    "    if type(x) == str: return x\n",
    "    return x.autonomous_system_number\n",
    "def getASorg(x):\n",
    "    if type(x) == str: return x\n",
    "    return x.autonomous_system_organization\n",
    "def getLat(x):\n",
    "    try: return readerCITY.city(str(x)).location.latitude\n",
    "    except: return 0.0\n",
    "def getLong(x):\n",
    "    try: return readerCITY.city(str(x)).location.longitude\n",
    "    except: return 0.0"
   ]
  },
  {
   "cell_type": "code",
   "execution_count": 19,
   "metadata": {},
   "outputs": [
    {
     "name": "stderr",
     "output_type": "stream",
     "text": [
      "/opt/conda/lib/python3.6/site-packages/ipykernel_launcher.py:4: SettingWithCopyWarning: \n",
      "A value is trying to be set on a copy of a slice from a DataFrame.\n",
      "Try using .loc[row_indexer,col_indexer] = value instead\n",
      "\n",
      "See the caveats in the documentation: http://pandas.pydata.org/pandas-docs/stable/indexing.html#indexing-view-versus-copy\n",
      "  after removing the cwd from sys.path.\n",
      "/opt/conda/lib/python3.6/site-packages/ipykernel_launcher.py:5: SettingWithCopyWarning: \n",
      "A value is trying to be set on a copy of a slice from a DataFrame.\n",
      "Try using .loc[row_indexer,col_indexer] = value instead\n",
      "\n",
      "See the caveats in the documentation: http://pandas.pydata.org/pandas-docs/stable/indexing.html#indexing-view-versus-copy\n",
      "  \"\"\"\n",
      "/opt/conda/lib/python3.6/site-packages/ipykernel_launcher.py:6: SettingWithCopyWarning: \n",
      "A value is trying to be set on a copy of a slice from a DataFrame.\n",
      "Try using .loc[row_indexer,col_indexer] = value instead\n",
      "\n",
      "See the caveats in the documentation: http://pandas.pydata.org/pandas-docs/stable/indexing.html#indexing-view-versus-copy\n",
      "  \n",
      "/opt/conda/lib/python3.6/site-packages/ipykernel_launcher.py:7: SettingWithCopyWarning: \n",
      "A value is trying to be set on a copy of a slice from a DataFrame.\n",
      "Try using .loc[row_indexer,col_indexer] = value instead\n",
      "\n",
      "See the caveats in the documentation: http://pandas.pydata.org/pandas-docs/stable/indexing.html#indexing-view-versus-copy\n",
      "  import sys\n",
      "/opt/conda/lib/python3.6/site-packages/ipykernel_launcher.py:8: SettingWithCopyWarning: \n",
      "A value is trying to be set on a copy of a slice from a DataFrame.\n",
      "Try using .loc[row_indexer,col_indexer] = value instead\n",
      "\n",
      "See the caveats in the documentation: http://pandas.pydata.org/pandas-docs/stable/indexing.html#indexing-view-versus-copy\n",
      "  \n"
     ]
    }
   ],
   "source": [
    "# making a vector of AS objects for sipcalled\n",
    "V = df_geo_unique_ip['a_saddr'].apply(getASobject)\n",
    "# adding columns to the data frame\n",
    "df_geo_unique_ip['a_saddr_asn'] = V.apply(getASN)\n",
    "df_geo_unique_ip['a_saddr_asorg'] = V.apply(getASorg)\n",
    "df_geo_unique_ip['a_saddr_as_ip'] = V.apply(getIP)\n",
    "df_geo_unique_ip['a_saddr_lat'] = df_geo_unique_ip['a_saddr_as_ip'].apply(getLat)\n",
    "df_geo_unique_ip['a_saddr_long'] = df_geo_unique_ip['a_saddr_as_ip'].apply(getLong)"
   ]
  },
  {
   "cell_type": "code",
   "execution_count": 20,
   "metadata": {},
   "outputs": [
    {
     "name": "stderr",
     "output_type": "stream",
     "text": [
      "/opt/conda/lib/python3.6/site-packages/ipykernel_launcher.py:4: SettingWithCopyWarning: \n",
      "A value is trying to be set on a copy of a slice from a DataFrame.\n",
      "Try using .loc[row_indexer,col_indexer] = value instead\n",
      "\n",
      "See the caveats in the documentation: http://pandas.pydata.org/pandas-docs/stable/indexing.html#indexing-view-versus-copy\n",
      "  after removing the cwd from sys.path.\n",
      "/opt/conda/lib/python3.6/site-packages/ipykernel_launcher.py:5: SettingWithCopyWarning: \n",
      "A value is trying to be set on a copy of a slice from a DataFrame.\n",
      "Try using .loc[row_indexer,col_indexer] = value instead\n",
      "\n",
      "See the caveats in the documentation: http://pandas.pydata.org/pandas-docs/stable/indexing.html#indexing-view-versus-copy\n",
      "  \"\"\"\n",
      "/opt/conda/lib/python3.6/site-packages/ipykernel_launcher.py:6: SettingWithCopyWarning: \n",
      "A value is trying to be set on a copy of a slice from a DataFrame.\n",
      "Try using .loc[row_indexer,col_indexer] = value instead\n",
      "\n",
      "See the caveats in the documentation: http://pandas.pydata.org/pandas-docs/stable/indexing.html#indexing-view-versus-copy\n",
      "  \n",
      "/opt/conda/lib/python3.6/site-packages/ipykernel_launcher.py:7: SettingWithCopyWarning: \n",
      "A value is trying to be set on a copy of a slice from a DataFrame.\n",
      "Try using .loc[row_indexer,col_indexer] = value instead\n",
      "\n",
      "See the caveats in the documentation: http://pandas.pydata.org/pandas-docs/stable/indexing.html#indexing-view-versus-copy\n",
      "  import sys\n",
      "/opt/conda/lib/python3.6/site-packages/ipykernel_launcher.py:8: SettingWithCopyWarning: \n",
      "A value is trying to be set on a copy of a slice from a DataFrame.\n",
      "Try using .loc[row_indexer,col_indexer] = value instead\n",
      "\n",
      "See the caveats in the documentation: http://pandas.pydata.org/pandas-docs/stable/indexing.html#indexing-view-versus-copy\n",
      "  \n"
     ]
    }
   ],
   "source": [
    "# making a vector of AS objects for sipcalled\n",
    "V = df_geo_unique_ip['b_saddr'].apply(getASobject)\n",
    "# adding columns to the data frame\n",
    "df_geo_unique_ip['b_saddr_asn'] = V.apply(getASN)\n",
    "df_geo_unique_ip['b_saddr_asorg'] = V.apply(getASorg)\n",
    "df_geo_unique_ip['b_saddr_as_ip'] = V.apply(getIP)\n",
    "df_geo_unique_ip['b_saddr_lat'] = df_geo_unique_ip['b_saddr_as_ip'].apply(getLat)\n",
    "df_geo_unique_ip['b_saddr_long'] = df_geo_unique_ip['b_saddr_as_ip'].apply(getLong)"
   ]
  },
  {
   "cell_type": "markdown",
   "metadata": {},
   "source": [
    "## df_geo_unique_ip holds the table but it has each individual ipaddress.\n",
    "we don't want the ip addresses if they have the same lat/long"
   ]
  },
  {
   "cell_type": "code",
   "execution_count": 22,
   "metadata": {},
   "outputs": [
    {
     "data": {
      "text/html": [
       "<div>\n",
       "<style scoped>\n",
       "    .dataframe tbody tr th:only-of-type {\n",
       "        vertical-align: middle;\n",
       "    }\n",
       "\n",
       "    .dataframe tbody tr th {\n",
       "        vertical-align: top;\n",
       "    }\n",
       "\n",
       "    .dataframe thead th {\n",
       "        text-align: right;\n",
       "    }\n",
       "</style>\n",
       "<table border=\"1\" class=\"dataframe\">\n",
       "  <thead>\n",
       "    <tr style=\"text-align: right;\">\n",
       "      <th></th>\n",
       "      <th>a_saddr</th>\n",
       "      <th>b_saddr</th>\n",
       "      <th>a_saddr_asn</th>\n",
       "      <th>a_saddr_asorg</th>\n",
       "      <th>a_saddr_as_ip</th>\n",
       "      <th>a_saddr_lat</th>\n",
       "      <th>a_saddr_long</th>\n",
       "      <th>b_saddr_asn</th>\n",
       "      <th>b_saddr_asorg</th>\n",
       "      <th>b_saddr_as_ip</th>\n",
       "      <th>b_saddr_lat</th>\n",
       "      <th>b_saddr_long</th>\n",
       "    </tr>\n",
       "  </thead>\n",
       "  <tbody>\n",
       "    <tr>\n",
       "      <th>1</th>\n",
       "      <td>3227975250</td>\n",
       "      <td>1176778026</td>\n",
       "      <td>395152</td>\n",
       "      <td>CloudPBX</td>\n",
       "      <td>192.102.254.82</td>\n",
       "      <td>43.6319</td>\n",
       "      <td>-79.3716</td>\n",
       "      <td>40029</td>\n",
       "      <td>Novus Entertainment Inc.</td>\n",
       "      <td>70.36.53.42</td>\n",
       "      <td>49.2788</td>\n",
       "      <td>-123.1139</td>\n",
       "    </tr>\n",
       "    <tr>\n",
       "      <th>2</th>\n",
       "      <td>1614226523</td>\n",
       "      <td>3227975250</td>\n",
       "      <td>6327</td>\n",
       "      <td>Shaw Communications Inc.</td>\n",
       "      <td>96.55.36.91</td>\n",
       "      <td>49.1889</td>\n",
       "      <td>-122.8730</td>\n",
       "      <td>395152</td>\n",
       "      <td>CloudPBX</td>\n",
       "      <td>192.102.254.82</td>\n",
       "      <td>43.6319</td>\n",
       "      <td>-79.3716</td>\n",
       "    </tr>\n",
       "    <tr>\n",
       "      <th>9</th>\n",
       "      <td>3227975251</td>\n",
       "      <td>1268628388</td>\n",
       "      <td>395152</td>\n",
       "      <td>CloudPBX</td>\n",
       "      <td>192.102.254.83</td>\n",
       "      <td>43.6319</td>\n",
       "      <td>-79.3716</td>\n",
       "      <td>852</td>\n",
       "      <td>TELUS Communications Inc.</td>\n",
       "      <td>75.157.187.164</td>\n",
       "      <td>49.8928</td>\n",
       "      <td>-119.4852</td>\n",
       "    </tr>\n",
       "    <tr>\n",
       "      <th>10</th>\n",
       "      <td>1268497742</td>\n",
       "      <td>3227975250</td>\n",
       "      <td>852</td>\n",
       "      <td>TELUS Communications Inc.</td>\n",
       "      <td>75.155.189.78</td>\n",
       "      <td>49.2475</td>\n",
       "      <td>-123.1210</td>\n",
       "      <td>395152</td>\n",
       "      <td>CloudPBX</td>\n",
       "      <td>192.102.254.82</td>\n",
       "      <td>43.6319</td>\n",
       "      <td>-79.3716</td>\n",
       "    </tr>\n",
       "    <tr>\n",
       "      <th>14</th>\n",
       "      <td>3227975250</td>\n",
       "      <td>3330677851</td>\n",
       "      <td>395152</td>\n",
       "      <td>CloudPBX</td>\n",
       "      <td>192.102.254.82</td>\n",
       "      <td>43.6319</td>\n",
       "      <td>-79.3716</td>\n",
       "      <td>30500</td>\n",
       "      <td>Wolfpaw Data Centres Inc</td>\n",
       "      <td>198.134.28.91</td>\n",
       "      <td>55.3333</td>\n",
       "      <td>-115.4167</td>\n",
       "    </tr>\n",
       "  </tbody>\n",
       "</table>\n",
       "</div>"
      ],
      "text/plain": [
       "       a_saddr     b_saddr  a_saddr_asn              a_saddr_asorg  \\\n",
       "1   3227975250  1176778026       395152                   CloudPBX   \n",
       "2   1614226523  3227975250         6327   Shaw Communications Inc.   \n",
       "9   3227975251  1268628388       395152                   CloudPBX   \n",
       "10  1268497742  3227975250          852  TELUS Communications Inc.   \n",
       "14  3227975250  3330677851       395152                   CloudPBX   \n",
       "\n",
       "     a_saddr_as_ip  a_saddr_lat  a_saddr_long  b_saddr_asn  \\\n",
       "1   192.102.254.82      43.6319      -79.3716        40029   \n",
       "2      96.55.36.91      49.1889     -122.8730       395152   \n",
       "9   192.102.254.83      43.6319      -79.3716          852   \n",
       "10   75.155.189.78      49.2475     -123.1210       395152   \n",
       "14  192.102.254.82      43.6319      -79.3716        30500   \n",
       "\n",
       "                b_saddr_asorg   b_saddr_as_ip  b_saddr_lat  b_saddr_long  \n",
       "1    Novus Entertainment Inc.     70.36.53.42      49.2788     -123.1139  \n",
       "2                    CloudPBX  192.102.254.82      43.6319      -79.3716  \n",
       "9   TELUS Communications Inc.  75.157.187.164      49.8928     -119.4852  \n",
       "10                   CloudPBX  192.102.254.82      43.6319      -79.3716  \n",
       "14   Wolfpaw Data Centres Inc   198.134.28.91      55.3333     -115.4167  "
      ]
     },
     "execution_count": 22,
     "metadata": {},
     "output_type": "execute_result"
    }
   ],
   "source": [
    "#df_geo_unique_ip.to_csv('unique_rtp_pairings_1M.csv')\n",
    "df_geo_unique_ip.head()"
   ]
  },
  {
   "cell_type": "code",
   "execution_count": 23,
   "metadata": {},
   "outputs": [
    {
     "data": {
      "text/plain": [
       "(4072, 12)"
      ]
     },
     "execution_count": 23,
     "metadata": {},
     "output_type": "execute_result"
    }
   ],
   "source": [
    "df_geo_unique_ip.shape"
   ]
  },
  {
   "cell_type": "markdown",
   "metadata": {},
   "source": [
    "## let's filter out ips with the same lat/long\n",
    "df_geo_unique_asn holds the table filtered for unique asn"
   ]
  },
  {
   "cell_type": "code",
   "execution_count": 24,
   "metadata": {},
   "outputs": [],
   "source": [
    "df_geo_unique_latlong = df_geo_unique_ip[['a_saddr_asn','a_saddr_asorg','a_saddr_lat','a_saddr_long',\n",
    "                                   'b_saddr_asn','b_saddr_asorg','b_saddr_lat','b_saddr_long']].drop_duplicates()"
   ]
  },
  {
   "cell_type": "code",
   "execution_count": 25,
   "metadata": {},
   "outputs": [
    {
     "data": {
      "text/html": [
       "<div>\n",
       "<style scoped>\n",
       "    .dataframe tbody tr th:only-of-type {\n",
       "        vertical-align: middle;\n",
       "    }\n",
       "\n",
       "    .dataframe tbody tr th {\n",
       "        vertical-align: top;\n",
       "    }\n",
       "\n",
       "    .dataframe thead th {\n",
       "        text-align: right;\n",
       "    }\n",
       "</style>\n",
       "<table border=\"1\" class=\"dataframe\">\n",
       "  <thead>\n",
       "    <tr style=\"text-align: right;\">\n",
       "      <th></th>\n",
       "      <th>a_saddr_asn</th>\n",
       "      <th>a_saddr_asorg</th>\n",
       "      <th>a_saddr_lat</th>\n",
       "      <th>a_saddr_long</th>\n",
       "      <th>b_saddr_asn</th>\n",
       "      <th>b_saddr_asorg</th>\n",
       "      <th>b_saddr_lat</th>\n",
       "      <th>b_saddr_long</th>\n",
       "    </tr>\n",
       "  </thead>\n",
       "  <tbody>\n",
       "    <tr>\n",
       "      <th>1</th>\n",
       "      <td>395152</td>\n",
       "      <td>CloudPBX</td>\n",
       "      <td>43.6319</td>\n",
       "      <td>-79.3716</td>\n",
       "      <td>40029</td>\n",
       "      <td>Novus Entertainment Inc.</td>\n",
       "      <td>49.2788</td>\n",
       "      <td>-123.1139</td>\n",
       "    </tr>\n",
       "    <tr>\n",
       "      <th>2</th>\n",
       "      <td>6327</td>\n",
       "      <td>Shaw Communications Inc.</td>\n",
       "      <td>49.1889</td>\n",
       "      <td>-122.8730</td>\n",
       "      <td>395152</td>\n",
       "      <td>CloudPBX</td>\n",
       "      <td>43.6319</td>\n",
       "      <td>-79.3716</td>\n",
       "    </tr>\n",
       "    <tr>\n",
       "      <th>9</th>\n",
       "      <td>395152</td>\n",
       "      <td>CloudPBX</td>\n",
       "      <td>43.6319</td>\n",
       "      <td>-79.3716</td>\n",
       "      <td>852</td>\n",
       "      <td>TELUS Communications Inc.</td>\n",
       "      <td>49.8928</td>\n",
       "      <td>-119.4852</td>\n",
       "    </tr>\n",
       "    <tr>\n",
       "      <th>10</th>\n",
       "      <td>852</td>\n",
       "      <td>TELUS Communications Inc.</td>\n",
       "      <td>49.2475</td>\n",
       "      <td>-123.1210</td>\n",
       "      <td>395152</td>\n",
       "      <td>CloudPBX</td>\n",
       "      <td>43.6319</td>\n",
       "      <td>-79.3716</td>\n",
       "    </tr>\n",
       "    <tr>\n",
       "      <th>14</th>\n",
       "      <td>395152</td>\n",
       "      <td>CloudPBX</td>\n",
       "      <td>43.6319</td>\n",
       "      <td>-79.3716</td>\n",
       "      <td>30500</td>\n",
       "      <td>Wolfpaw Data Centres Inc</td>\n",
       "      <td>55.3333</td>\n",
       "      <td>-115.4167</td>\n",
       "    </tr>\n",
       "  </tbody>\n",
       "</table>\n",
       "</div>"
      ],
      "text/plain": [
       "    a_saddr_asn              a_saddr_asorg  a_saddr_lat  a_saddr_long  \\\n",
       "1        395152                   CloudPBX      43.6319      -79.3716   \n",
       "2          6327   Shaw Communications Inc.      49.1889     -122.8730   \n",
       "9        395152                   CloudPBX      43.6319      -79.3716   \n",
       "10          852  TELUS Communications Inc.      49.2475     -123.1210   \n",
       "14       395152                   CloudPBX      43.6319      -79.3716   \n",
       "\n",
       "    b_saddr_asn              b_saddr_asorg  b_saddr_lat  b_saddr_long  \n",
       "1         40029   Novus Entertainment Inc.      49.2788     -123.1139  \n",
       "2        395152                   CloudPBX      43.6319      -79.3716  \n",
       "9           852  TELUS Communications Inc.      49.8928     -119.4852  \n",
       "10       395152                   CloudPBX      43.6319      -79.3716  \n",
       "14        30500   Wolfpaw Data Centres Inc      55.3333     -115.4167  "
      ]
     },
     "execution_count": 25,
     "metadata": {},
     "output_type": "execute_result"
    }
   ],
   "source": [
    "df_geo_unique_latlong.head()"
   ]
  },
  {
   "cell_type": "code",
   "execution_count": 26,
   "metadata": {},
   "outputs": [
    {
     "data": {
      "text/plain": [
       "(1440, 8)"
      ]
     },
     "execution_count": 26,
     "metadata": {},
     "output_type": "execute_result"
    }
   ],
   "source": [
    "df_geo_unique_latlong.shape"
   ]
  },
  {
   "cell_type": "markdown",
   "metadata": {},
   "source": [
    "## Split into cities"
   ]
  },
  {
   "cell_type": "code",
   "execution_count": 28,
   "metadata": {},
   "outputs": [],
   "source": [
    "df_van_ip = df_geo_unique_ip[df_geo_unique_ip['a_saddr_asn']==395152]\n",
    "df_van_latlong = df_geo_unique_latlong[df_geo_unique_latlong['a_saddr_asn']==395152]\n",
    "df_tor_ip = df_geo_unique_ip[df_geo_unique_ip['a_saddr_asn']==393755]\n",
    "df_tor_latlong = df_geo_unique_latlong[df_geo_unique_latlong['a_saddr_asn']==393755]\n",
    "df_mtl_ip = df_geo_unique_ip[df_geo_unique_ip['a_saddr_asn']==395766]\n",
    "df_mtl_latlong = df_geo_unique_latlong[df_geo_unique_latlong['a_saddr_asn']==395766]"
   ]
  },
  {
   "cell_type": "code",
   "execution_count": 29,
   "metadata": {},
   "outputs": [
    {
     "name": "stdout",
     "output_type": "stream",
     "text": [
      "(676, 12) (765, 12) (532, 12)\n"
     ]
    }
   ],
   "source": [
    "print(df_van_ip.shape,\n",
    "df_tor_ip.shape,\n",
    "df_mtl_ip.shape)"
   ]
  },
  {
   "cell_type": "code",
   "execution_count": 30,
   "metadata": {},
   "outputs": [
    {
     "name": "stdout",
     "output_type": "stream",
     "text": [
      "(251, 8) (249, 8) (205, 8)\n"
     ]
    }
   ],
   "source": [
    "print(df_van_latlong.shape,\n",
    "df_tor_latlong.shape,\n",
    "df_mtl_latlong.shape)"
   ]
  },
  {
   "cell_type": "code",
   "execution_count": 32,
   "metadata": {},
   "outputs": [],
   "source": [
    "df_van_latlong.to_csv('van_rtp_unique_latlong.csv')\n",
    "df_tor_latlong.to_csv('tor_rtp_unique_latlong.csv')\n",
    "df_mtl_latlong.to_csv('mtl_rtp_unique_latlong.csv')"
   ]
  },
  {
   "cell_type": "code",
   "execution_count": null,
   "metadata": {},
   "outputs": [],
   "source": []
  }
 ],
 "metadata": {
  "kernelspec": {
   "display_name": "Python 3",
   "language": "python",
   "name": "python3"
  },
  "language_info": {
   "codemirror_mode": {
    "name": "ipython",
    "version": 3
   },
   "file_extension": ".py",
   "mimetype": "text/x-python",
   "name": "python",
   "nbconvert_exporter": "python",
   "pygments_lexer": "ipython3",
   "version": "3.6.5"
  }
 },
 "nbformat": 4,
 "nbformat_minor": 2
}
