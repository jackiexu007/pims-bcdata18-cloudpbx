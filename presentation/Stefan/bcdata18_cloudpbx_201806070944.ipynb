{
 "cells": [
  {
   "cell_type": "markdown",
   "metadata": {},
   "source": [
    "# Notebook for getting a nice table for graphing data\n",
    "\n",
    "This notebook takes in the dataset and returns a table containing all unique pairs of people calling each other with relavent data necessary for creating a graph-like object visualized over a map of Canada.\n",
    "That is, it filters the cdr table for unique a_saddr and b_saddr pairs (unique rtp pairings). It then feeds this table through geolite (and ipaddress) to obtain human readable information such as ASN information and latitude/longitude.\n",
    "\n",
    "It also creates smaller tables centered around Vancouver, Toronto, and Montreal (where CloudPBX has servers) in the instance that smaller graph-like objects and maps desire to be created."
   ]
  },
  {
   "cell_type": "code",
   "execution_count": 1,
   "metadata": {},
   "outputs": [],
   "source": [
    "import numpy as np\n",
    "import pandas as pd\n",
    "import geoip2.database\n",
    "import ipaddress\n",
    "import os"
   ]
  },
  {
   "cell_type": "code",
   "execution_count": 2,
   "metadata": {},
   "outputs": [],
   "source": [
    "#DATA_ROOT = 'data/workshop-content18/5-cloudpbx/data/cloudpbx_sample_data_10k/'\n",
    "CSV_FILE_PATH = os.path.join('pims_cloudpbx_subset_201806051550_1million.csv')\n",
    "#CSV_FILE_PATH = os.path.join('locn-filtered.csv')\n",
    "GEOLITE_ASN_PATH = os.path.join('GeoLite2-ASN.mmdb')\n",
    "GEOLITE_CITY_PATH = os.path.join('GeoLite2-City.mmdb')"
   ]
  },
  {
   "cell_type": "code",
   "execution_count": 3,
   "metadata": {},
   "outputs": [
    {
     "name": "stderr",
     "output_type": "stream",
     "text": [
      "/opt/conda/lib/python3.6/site-packages/IPython/core/interactiveshell.py:2785: DtypeWarning: Columns (14) have mixed types. Specify dtype option on import or set low_memory=False.\n",
      "  interactivity=interactivity, compiler=compiler, result=result)\n"
     ]
    }
   ],
   "source": [
    "# read dataframe\n",
    "df = pd.read_csv(CSV_FILE_PATH,delim_whitespace=True)"
   ]
  },
  {
   "cell_type": "code",
   "execution_count": 4,
   "metadata": {},
   "outputs": [],
   "source": [
    "DESCRIBED_COLUMNS = [\"a_saddr\", \"b_saddr\"]"
   ]
  },
  {
   "cell_type": "code",
   "execution_count": 5,
   "metadata": {},
   "outputs": [],
   "source": [
    "df_geo = df[DESCRIBED_COLUMNS]"
   ]
  },
  {
   "cell_type": "code",
   "execution_count": 6,
   "metadata": {},
   "outputs": [
    {
     "data": {
      "text/plain": [
       "(2739, 2)"
      ]
     },
     "execution_count": 6,
     "metadata": {},
     "output_type": "execute_result"
    }
   ],
   "source": [
    "df_geo_unique = df_geo.drop_duplicates()\n",
    "df_geo_unique.shape"
   ]
  },
  {
   "cell_type": "markdown",
   "metadata": {},
   "source": [
    "## Link IP addresses to ASN"
   ]
  },
  {
   "cell_type": "code",
   "execution_count": 7,
   "metadata": {},
   "outputs": [],
   "source": [
    "# initiate geoip client\n",
    "readerASN = geoip2.database.Reader(GEOLITE_ASN_PATH)\n",
    "readerCITY = geoip2.database.Reader(GEOLITE_CITY_PATH)"
   ]
  },
  {
   "cell_type": "code",
   "execution_count": 8,
   "metadata": {},
   "outputs": [],
   "source": [
    "# functions to get AS info\n",
    "def getASobject(x):\n",
    "    ip = ipaddress.ip_address(x)\n",
    "    try: return readerASN.asn(str(ip))\n",
    "    except: return \"The address {} is not in the database.\".format(ip)\n",
    "def getIP(x):\n",
    "    if type(x) == str: return x\n",
    "    return x.ip_address\n",
    "def getASN(x):\n",
    "    if type(x) == str: return x\n",
    "    return x.autonomous_system_number\n",
    "def getASorg(x):\n",
    "    if type(x) == str: return x\n",
    "    return x.autonomous_system_organization\n",
    "def getLat(x):\n",
    "    try: return readerCITY.city(str(x)).location.latitude\n",
    "    except: return \"The address {} is not in the database.\".format(str(x))\n",
    "def getLong(x):\n",
    "    try: return readerCITY.city(str(x)).location.longitude\n",
    "    except: return \"The address {} is not in the database.\".format(str(x))"
   ]
  },
  {
   "cell_type": "code",
   "execution_count": 9,
   "metadata": {},
   "outputs": [],
   "source": [
    "####\n",
    "#\n",
    "# Decided not to include SIP\n",
    "#\n",
    "# making a vector of AS objects for sipcaller\n",
    "#V = df['sipcallerip'].apply(getASobject)\n",
    "# adding columns to the data frame\n",
    "#df['sipcallerasn'] = V.apply(getASN)\n",
    "#df['sipcallerasorg'] = V.apply(getASorg)"
   ]
  },
  {
   "cell_type": "code",
   "execution_count": 10,
   "metadata": {},
   "outputs": [],
   "source": [
    "####\n",
    "#\n",
    "# Decided not to include SIP\n",
    "#\n",
    "# making a vector of AS objects for sipcalled\n",
    "#V = df['sipcalledip'].apply(getASobject)\n",
    "# adding columns to the data frame\n",
    "#df['sipcalledasn'] = V.apply(getASN)\n",
    "#df['sipcalledasorg'] = V.apply(getASorg)"
   ]
  },
  {
   "cell_type": "code",
   "execution_count": 11,
   "metadata": {},
   "outputs": [
    {
     "name": "stderr",
     "output_type": "stream",
     "text": [
      "/opt/conda/lib/python3.6/site-packages/ipykernel_launcher.py:4: SettingWithCopyWarning: \n",
      "A value is trying to be set on a copy of a slice from a DataFrame.\n",
      "Try using .loc[row_indexer,col_indexer] = value instead\n",
      "\n",
      "See the caveats in the documentation: http://pandas.pydata.org/pandas-docs/stable/indexing.html#indexing-view-versus-copy\n",
      "  after removing the cwd from sys.path.\n",
      "/opt/conda/lib/python3.6/site-packages/ipykernel_launcher.py:5: SettingWithCopyWarning: \n",
      "A value is trying to be set on a copy of a slice from a DataFrame.\n",
      "Try using .loc[row_indexer,col_indexer] = value instead\n",
      "\n",
      "See the caveats in the documentation: http://pandas.pydata.org/pandas-docs/stable/indexing.html#indexing-view-versus-copy\n",
      "  \"\"\"\n",
      "/opt/conda/lib/python3.6/site-packages/ipykernel_launcher.py:6: SettingWithCopyWarning: \n",
      "A value is trying to be set on a copy of a slice from a DataFrame.\n",
      "Try using .loc[row_indexer,col_indexer] = value instead\n",
      "\n",
      "See the caveats in the documentation: http://pandas.pydata.org/pandas-docs/stable/indexing.html#indexing-view-versus-copy\n",
      "  \n",
      "/opt/conda/lib/python3.6/site-packages/ipykernel_launcher.py:7: SettingWithCopyWarning: \n",
      "A value is trying to be set on a copy of a slice from a DataFrame.\n",
      "Try using .loc[row_indexer,col_indexer] = value instead\n",
      "\n",
      "See the caveats in the documentation: http://pandas.pydata.org/pandas-docs/stable/indexing.html#indexing-view-versus-copy\n",
      "  import sys\n",
      "/opt/conda/lib/python3.6/site-packages/ipykernel_launcher.py:8: SettingWithCopyWarning: \n",
      "A value is trying to be set on a copy of a slice from a DataFrame.\n",
      "Try using .loc[row_indexer,col_indexer] = value instead\n",
      "\n",
      "See the caveats in the documentation: http://pandas.pydata.org/pandas-docs/stable/indexing.html#indexing-view-versus-copy\n",
      "  \n"
     ]
    }
   ],
   "source": [
    "# making a vector of AS objects for sipcalled\n",
    "V = df_geo_unique['a_saddr'].apply(getASobject)\n",
    "# adding columns to the data frame\n",
    "df_geo_unique['a_saddr_asn'] = V.apply(getASN)\n",
    "df_geo_unique['a_saddr_asorg'] = V.apply(getASorg)\n",
    "df_geo_unique['a_saddr_as_ip'] = V.apply(getIP)\n",
    "df_geo_unique['a_saddr_lat'] = df_geo_unique['a_saddr_as_ip'].apply(getLat)\n",
    "df_geo_unique['a_saddr_long'] = df_geo_unique['a_saddr_as_ip'].apply(getLong)"
   ]
  },
  {
   "cell_type": "code",
   "execution_count": 12,
   "metadata": {},
   "outputs": [
    {
     "name": "stderr",
     "output_type": "stream",
     "text": [
      "/opt/conda/lib/python3.6/site-packages/ipykernel_launcher.py:4: SettingWithCopyWarning: \n",
      "A value is trying to be set on a copy of a slice from a DataFrame.\n",
      "Try using .loc[row_indexer,col_indexer] = value instead\n",
      "\n",
      "See the caveats in the documentation: http://pandas.pydata.org/pandas-docs/stable/indexing.html#indexing-view-versus-copy\n",
      "  after removing the cwd from sys.path.\n",
      "/opt/conda/lib/python3.6/site-packages/ipykernel_launcher.py:5: SettingWithCopyWarning: \n",
      "A value is trying to be set on a copy of a slice from a DataFrame.\n",
      "Try using .loc[row_indexer,col_indexer] = value instead\n",
      "\n",
      "See the caveats in the documentation: http://pandas.pydata.org/pandas-docs/stable/indexing.html#indexing-view-versus-copy\n",
      "  \"\"\"\n",
      "/opt/conda/lib/python3.6/site-packages/ipykernel_launcher.py:6: SettingWithCopyWarning: \n",
      "A value is trying to be set on a copy of a slice from a DataFrame.\n",
      "Try using .loc[row_indexer,col_indexer] = value instead\n",
      "\n",
      "See the caveats in the documentation: http://pandas.pydata.org/pandas-docs/stable/indexing.html#indexing-view-versus-copy\n",
      "  \n",
      "/opt/conda/lib/python3.6/site-packages/ipykernel_launcher.py:7: SettingWithCopyWarning: \n",
      "A value is trying to be set on a copy of a slice from a DataFrame.\n",
      "Try using .loc[row_indexer,col_indexer] = value instead\n",
      "\n",
      "See the caveats in the documentation: http://pandas.pydata.org/pandas-docs/stable/indexing.html#indexing-view-versus-copy\n",
      "  import sys\n",
      "/opt/conda/lib/python3.6/site-packages/ipykernel_launcher.py:8: SettingWithCopyWarning: \n",
      "A value is trying to be set on a copy of a slice from a DataFrame.\n",
      "Try using .loc[row_indexer,col_indexer] = value instead\n",
      "\n",
      "See the caveats in the documentation: http://pandas.pydata.org/pandas-docs/stable/indexing.html#indexing-view-versus-copy\n",
      "  \n"
     ]
    }
   ],
   "source": [
    "# making a vector of AS objects for sipcalled\n",
    "V = df_geo_unique['b_saddr'].apply(getASobject)\n",
    "# adding columns to the data frame\n",
    "df_geo_unique['b_saddr_asn'] = V.apply(getASN)\n",
    "df_geo_unique['b_saddr_asorg'] = V.apply(getASorg)\n",
    "df_geo_unique['b_saddr_as_ip'] = V.apply(getIP)\n",
    "df_geo_unique['b_saddr_lat'] = df_geo_unique['b_saddr_as_ip'].apply(getLat)\n",
    "df_geo_unique['b_saddr_long'] = df_geo_unique['b_saddr_as_ip'].apply(getLong)"
   ]
  },
  {
   "cell_type": "markdown",
   "metadata": {},
   "source": [
    "## df_geo_unique holds the table"
   ]
  },
  {
   "cell_type": "code",
   "execution_count": 13,
   "metadata": {},
   "outputs": [
    {
     "data": {
      "text/html": [
       "<div>\n",
       "<style scoped>\n",
       "    .dataframe tbody tr th:only-of-type {\n",
       "        vertical-align: middle;\n",
       "    }\n",
       "\n",
       "    .dataframe tbody tr th {\n",
       "        vertical-align: top;\n",
       "    }\n",
       "\n",
       "    .dataframe thead th {\n",
       "        text-align: right;\n",
       "    }\n",
       "</style>\n",
       "<table border=\"1\" class=\"dataframe\">\n",
       "  <thead>\n",
       "    <tr style=\"text-align: right;\">\n",
       "      <th></th>\n",
       "      <th></th>\n",
       "      <th>a_saddr</th>\n",
       "      <th>b_saddr</th>\n",
       "      <th>a_saddr_asn</th>\n",
       "      <th>a_saddr_asorg</th>\n",
       "      <th>a_saddr_as_ip</th>\n",
       "      <th>a_saddr_lat</th>\n",
       "      <th>a_saddr_long</th>\n",
       "      <th>b_saddr_asn</th>\n",
       "      <th>b_saddr_asorg</th>\n",
       "      <th>b_saddr_as_ip</th>\n",
       "      <th>b_saddr_lat</th>\n",
       "      <th>b_saddr_long</th>\n",
       "    </tr>\n",
       "  </thead>\n",
       "  <tbody>\n",
       "    <tr>\n",
       "      <th>71483861</th>\n",
       "      <th>2018-03-15</th>\n",
       "      <td>3227975250</td>\n",
       "      <td>41732323</td>\n",
       "      <td>395152</td>\n",
       "      <td>CloudPBX</td>\n",
       "      <td>192.102.254.82</td>\n",
       "      <td>43.6319</td>\n",
       "      <td>-79.3716</td>\n",
       "      <td>5607</td>\n",
       "      <td>Sky UK Limited</td>\n",
       "      <td>2.124.200.227</td>\n",
       "      <td>53.2738</td>\n",
       "      <td>-2.6087</td>\n",
       "    </tr>\n",
       "    <tr>\n",
       "      <th>70783533</th>\n",
       "      <th>2018-03-09</th>\n",
       "      <td>3227975251</td>\n",
       "      <td>41733976</td>\n",
       "      <td>395152</td>\n",
       "      <td>CloudPBX</td>\n",
       "      <td>192.102.254.83</td>\n",
       "      <td>43.6319</td>\n",
       "      <td>-79.3716</td>\n",
       "      <td>5607</td>\n",
       "      <td>Sky UK Limited</td>\n",
       "      <td>2.124.207.88</td>\n",
       "      <td>53.2738</td>\n",
       "      <td>-2.6087</td>\n",
       "    </tr>\n",
       "    <tr>\n",
       "      <th>76384583</th>\n",
       "      <th>2018-05-03</th>\n",
       "      <td>1654599250</td>\n",
       "      <td>69076145</td>\n",
       "      <td>395766</td>\n",
       "      <td>CloudPBX</td>\n",
       "      <td>98.159.46.82</td>\n",
       "      <td>40.7432</td>\n",
       "      <td>-75.2242</td>\n",
       "      <td>3356</td>\n",
       "      <td>Level 3 Parent, LLC</td>\n",
       "      <td>4.30.4.177</td>\n",
       "      <td>32.8072</td>\n",
       "      <td>-117.165</td>\n",
       "    </tr>\n",
       "    <tr>\n",
       "      <th>65221709</th>\n",
       "      <th>2018-01-11</th>\n",
       "      <td>3227975251</td>\n",
       "      <td>70715842</td>\n",
       "      <td>395152</td>\n",
       "      <td>CloudPBX</td>\n",
       "      <td>192.102.254.83</td>\n",
       "      <td>43.6319</td>\n",
       "      <td>-79.3716</td>\n",
       "      <td>3356</td>\n",
       "      <td>Level 3 Parent, LLC</td>\n",
       "      <td>4.55.9.194</td>\n",
       "      <td>37.751</td>\n",
       "      <td>-97.822</td>\n",
       "    </tr>\n",
       "    <tr>\n",
       "      <th>65444938</th>\n",
       "      <th>2018-01-15</th>\n",
       "      <td>3227975250</td>\n",
       "      <td>70715842</td>\n",
       "      <td>395152</td>\n",
       "      <td>CloudPBX</td>\n",
       "      <td>192.102.254.82</td>\n",
       "      <td>43.6319</td>\n",
       "      <td>-79.3716</td>\n",
       "      <td>3356</td>\n",
       "      <td>Level 3 Parent, LLC</td>\n",
       "      <td>4.55.9.194</td>\n",
       "      <td>37.751</td>\n",
       "      <td>-97.822</td>\n",
       "    </tr>\n",
       "  </tbody>\n",
       "</table>\n",
       "</div>"
      ],
      "text/plain": [
       "                        a_saddr   b_saddr  a_saddr_asn a_saddr_asorg  \\\n",
       "71483861 2018-03-15  3227975250  41732323       395152      CloudPBX   \n",
       "70783533 2018-03-09  3227975251  41733976       395152      CloudPBX   \n",
       "76384583 2018-05-03  1654599250  69076145       395766      CloudPBX   \n",
       "65221709 2018-01-11  3227975251  70715842       395152      CloudPBX   \n",
       "65444938 2018-01-15  3227975250  70715842       395152      CloudPBX   \n",
       "\n",
       "                      a_saddr_as_ip  a_saddr_lat  a_saddr_long b_saddr_asn  \\\n",
       "71483861 2018-03-15  192.102.254.82      43.6319      -79.3716        5607   \n",
       "70783533 2018-03-09  192.102.254.83      43.6319      -79.3716        5607   \n",
       "76384583 2018-05-03    98.159.46.82      40.7432      -75.2242        3356   \n",
       "65221709 2018-01-11  192.102.254.83      43.6319      -79.3716        3356   \n",
       "65444938 2018-01-15  192.102.254.82      43.6319      -79.3716        3356   \n",
       "\n",
       "                           b_saddr_asorg  b_saddr_as_ip b_saddr_lat  \\\n",
       "71483861 2018-03-15       Sky UK Limited  2.124.200.227     53.2738   \n",
       "70783533 2018-03-09       Sky UK Limited   2.124.207.88     53.2738   \n",
       "76384583 2018-05-03  Level 3 Parent, LLC     4.30.4.177     32.8072   \n",
       "65221709 2018-01-11  Level 3 Parent, LLC     4.55.9.194      37.751   \n",
       "65444938 2018-01-15  Level 3 Parent, LLC     4.55.9.194      37.751   \n",
       "\n",
       "                    b_saddr_long  \n",
       "71483861 2018-03-15      -2.6087  \n",
       "70783533 2018-03-09      -2.6087  \n",
       "76384583 2018-05-03     -117.165  \n",
       "65221709 2018-01-11      -97.822  \n",
       "65444938 2018-01-15      -97.822  "
      ]
     },
     "execution_count": 13,
     "metadata": {},
     "output_type": "execute_result"
    }
   ],
   "source": [
    "df_geo_unique.head()"
   ]
  },
  {
   "cell_type": "code",
   "execution_count": 14,
   "metadata": {},
   "outputs": [
    {
     "data": {
      "text/plain": [
       "(2739, 12)"
      ]
     },
     "execution_count": 14,
     "metadata": {},
     "output_type": "execute_result"
    }
   ],
   "source": [
    "df_geo_unique.shape"
   ]
  },
  {
   "cell_type": "markdown",
   "metadata": {},
   "source": [
    "## df_geo_unique_asn holds the table filtered for unique asn (preserving unique lat and long data instances if asn's have multiple lat and long data)"
   ]
  },
  {
   "cell_type": "code",
   "execution_count": 15,
   "metadata": {},
   "outputs": [],
   "source": [
    "df_geo_unique_asn = df_geo_unique[['a_saddr_asn','a_saddr_asorg','a_saddr_lat','a_saddr_long',\n",
    "                                   'b_saddr_asn','b_saddr_asorg','b_saddr_lat','b_saddr_long']].drop_duplicates()"
   ]
  },
  {
   "cell_type": "code",
   "execution_count": 16,
   "metadata": {},
   "outputs": [
    {
     "data": {
      "text/html": [
       "<div>\n",
       "<style scoped>\n",
       "    .dataframe tbody tr th:only-of-type {\n",
       "        vertical-align: middle;\n",
       "    }\n",
       "\n",
       "    .dataframe tbody tr th {\n",
       "        vertical-align: top;\n",
       "    }\n",
       "\n",
       "    .dataframe thead th {\n",
       "        text-align: right;\n",
       "    }\n",
       "</style>\n",
       "<table border=\"1\" class=\"dataframe\">\n",
       "  <thead>\n",
       "    <tr style=\"text-align: right;\">\n",
       "      <th></th>\n",
       "      <th></th>\n",
       "      <th>a_saddr_asn</th>\n",
       "      <th>a_saddr_asorg</th>\n",
       "      <th>a_saddr_lat</th>\n",
       "      <th>a_saddr_long</th>\n",
       "      <th>b_saddr_asn</th>\n",
       "      <th>b_saddr_asorg</th>\n",
       "      <th>b_saddr_lat</th>\n",
       "      <th>b_saddr_long</th>\n",
       "    </tr>\n",
       "  </thead>\n",
       "  <tbody>\n",
       "    <tr>\n",
       "      <th>71483861</th>\n",
       "      <th>2018-03-15</th>\n",
       "      <td>395152</td>\n",
       "      <td>CloudPBX</td>\n",
       "      <td>43.6319</td>\n",
       "      <td>-79.3716</td>\n",
       "      <td>5607</td>\n",
       "      <td>Sky UK Limited</td>\n",
       "      <td>53.2738</td>\n",
       "      <td>-2.6087</td>\n",
       "    </tr>\n",
       "    <tr>\n",
       "      <th>76384583</th>\n",
       "      <th>2018-05-03</th>\n",
       "      <td>395766</td>\n",
       "      <td>CloudPBX</td>\n",
       "      <td>40.7432</td>\n",
       "      <td>-75.2242</td>\n",
       "      <td>3356</td>\n",
       "      <td>Level 3 Parent, LLC</td>\n",
       "      <td>32.8072</td>\n",
       "      <td>-117.165</td>\n",
       "    </tr>\n",
       "    <tr>\n",
       "      <th>65221709</th>\n",
       "      <th>2018-01-11</th>\n",
       "      <td>395152</td>\n",
       "      <td>CloudPBX</td>\n",
       "      <td>43.6319</td>\n",
       "      <td>-79.3716</td>\n",
       "      <td>3356</td>\n",
       "      <td>Level 3 Parent, LLC</td>\n",
       "      <td>37.751</td>\n",
       "      <td>-97.822</td>\n",
       "    </tr>\n",
       "    <tr>\n",
       "      <th>77648504</th>\n",
       "      <th>2018-05-15</th>\n",
       "      <td>393755</td>\n",
       "      <td>CloudPBX</td>\n",
       "      <td>43.6319</td>\n",
       "      <td>-79.3716</td>\n",
       "      <td>3356</td>\n",
       "      <td>Level 3 Parent, LLC</td>\n",
       "      <td>37.751</td>\n",
       "      <td>-97.822</td>\n",
       "    </tr>\n",
       "    <tr>\n",
       "      <th>77851961</th>\n",
       "      <th>2018-05-17</th>\n",
       "      <td>395766</td>\n",
       "      <td>CloudPBX</td>\n",
       "      <td>40.7432</td>\n",
       "      <td>-75.2242</td>\n",
       "      <td>3356</td>\n",
       "      <td>Level 3 Parent, LLC</td>\n",
       "      <td>37.751</td>\n",
       "      <td>-97.822</td>\n",
       "    </tr>\n",
       "  </tbody>\n",
       "</table>\n",
       "</div>"
      ],
      "text/plain": [
       "                     a_saddr_asn a_saddr_asorg  a_saddr_lat  a_saddr_long  \\\n",
       "71483861 2018-03-15       395152      CloudPBX      43.6319      -79.3716   \n",
       "76384583 2018-05-03       395766      CloudPBX      40.7432      -75.2242   \n",
       "65221709 2018-01-11       395152      CloudPBX      43.6319      -79.3716   \n",
       "77648504 2018-05-15       393755      CloudPBX      43.6319      -79.3716   \n",
       "77851961 2018-05-17       395766      CloudPBX      40.7432      -75.2242   \n",
       "\n",
       "                    b_saddr_asn        b_saddr_asorg b_saddr_lat b_saddr_long  \n",
       "71483861 2018-03-15        5607       Sky UK Limited     53.2738      -2.6087  \n",
       "76384583 2018-05-03        3356  Level 3 Parent, LLC     32.8072     -117.165  \n",
       "65221709 2018-01-11        3356  Level 3 Parent, LLC      37.751      -97.822  \n",
       "77648504 2018-05-15        3356  Level 3 Parent, LLC      37.751      -97.822  \n",
       "77851961 2018-05-17        3356  Level 3 Parent, LLC      37.751      -97.822  "
      ]
     },
     "execution_count": 16,
     "metadata": {},
     "output_type": "execute_result"
    }
   ],
   "source": [
    "df_geo_unique_asn.head()"
   ]
  },
  {
   "cell_type": "code",
   "execution_count": 17,
   "metadata": {},
   "outputs": [
    {
     "data": {
      "text/plain": [
       "(499, 8)"
      ]
     },
     "execution_count": 17,
     "metadata": {},
     "output_type": "execute_result"
    }
   ],
   "source": [
    "df_geo_unique_asn.shape"
   ]
  },
  {
   "cell_type": "markdown",
   "metadata": {},
   "source": [
    "## Split into cities"
   ]
  },
  {
   "cell_type": "code",
   "execution_count": 18,
   "metadata": {},
   "outputs": [],
   "source": [
    "df_van_ip = df_geo_unique[df_geo_unique['a_saddr_asn']==395152]\n",
    "df_van_asn = df_geo_unique_asn[df_geo_unique_asn['a_saddr_asn']==395152]\n",
    "df_tor_ip = df_geo_unique[df_geo_unique['a_saddr_asn']==393755]\n",
    "df_tor_asn = df_geo_unique_asn[df_geo_unique_asn['a_saddr_asn']==393755]\n",
    "df_mtl_ip = df_geo_unique[df_geo_unique['a_saddr_asn']==395766]\n",
    "df_mtl_asn = df_geo_unique_asn[df_geo_unique_asn['a_saddr_asn']==395766]"
   ]
  },
  {
   "cell_type": "code",
   "execution_count": 19,
   "metadata": {},
   "outputs": [
    {
     "name": "stdout",
     "output_type": "stream",
     "text": [
      "(932, 12) (1330, 12) (477, 12)\n"
     ]
    }
   ],
   "source": [
    "print(df_van_ip.shape,\n",
    "df_tor_ip.shape,\n",
    "df_mtl_ip.shape)"
   ]
  },
  {
   "cell_type": "code",
   "execution_count": 20,
   "metadata": {},
   "outputs": [
    {
     "name": "stdout",
     "output_type": "stream",
     "text": [
      "(168, 8) (217, 8) (114, 8)\n"
     ]
    }
   ],
   "source": [
    "print(df_van_asn.shape,\n",
    "df_tor_asn.shape,\n",
    "df_mtl_asn.shape)"
   ]
  },
  {
   "cell_type": "code",
   "execution_count": 22,
   "metadata": {},
   "outputs": [
    {
     "data": {
      "text/html": [
       "<div>\n",
       "<style scoped>\n",
       "    .dataframe tbody tr th:only-of-type {\n",
       "        vertical-align: middle;\n",
       "    }\n",
       "\n",
       "    .dataframe tbody tr th {\n",
       "        vertical-align: top;\n",
       "    }\n",
       "\n",
       "    .dataframe thead th {\n",
       "        text-align: right;\n",
       "    }\n",
       "</style>\n",
       "<table border=\"1\" class=\"dataframe\">\n",
       "  <thead>\n",
       "    <tr style=\"text-align: right;\">\n",
       "      <th></th>\n",
       "      <th></th>\n",
       "      <th>a_saddr_asn</th>\n",
       "      <th>a_saddr_asorg</th>\n",
       "      <th>a_saddr_lat</th>\n",
       "      <th>a_saddr_long</th>\n",
       "      <th>b_saddr_asn</th>\n",
       "      <th>b_saddr_asorg</th>\n",
       "      <th>b_saddr_lat</th>\n",
       "      <th>b_saddr_long</th>\n",
       "    </tr>\n",
       "  </thead>\n",
       "  <tbody>\n",
       "    <tr>\n",
       "      <th>71483861</th>\n",
       "      <th>2018-03-15</th>\n",
       "      <td>395152</td>\n",
       "      <td>CloudPBX</td>\n",
       "      <td>43.6319</td>\n",
       "      <td>-79.3716</td>\n",
       "      <td>5607</td>\n",
       "      <td>Sky UK Limited</td>\n",
       "      <td>53.2738</td>\n",
       "      <td>-2.6087</td>\n",
       "    </tr>\n",
       "    <tr>\n",
       "      <th>65221709</th>\n",
       "      <th>2018-01-11</th>\n",
       "      <td>395152</td>\n",
       "      <td>CloudPBX</td>\n",
       "      <td>43.6319</td>\n",
       "      <td>-79.3716</td>\n",
       "      <td>3356</td>\n",
       "      <td>Level 3 Parent, LLC</td>\n",
       "      <td>37.751</td>\n",
       "      <td>-97.822</td>\n",
       "    </tr>\n",
       "    <tr>\n",
       "      <th>64743723</th>\n",
       "      <th>2018-01-04</th>\n",
       "      <td>395152</td>\n",
       "      <td>CloudPBX</td>\n",
       "      <td>43.6319</td>\n",
       "      <td>-79.3716</td>\n",
       "      <td>32308</td>\n",
       "      <td>8x8, Inc.</td>\n",
       "      <td>37.751</td>\n",
       "      <td>-97.822</td>\n",
       "    </tr>\n",
       "    <tr>\n",
       "      <th>65528895</th>\n",
       "      <th>2018-01-15</th>\n",
       "      <td>395152</td>\n",
       "      <td>CloudPBX</td>\n",
       "      <td>43.6319</td>\n",
       "      <td>-79.3716</td>\n",
       "      <td>16504</td>\n",
       "      <td>Granite Telecommunications LLC</td>\n",
       "      <td>37.751</td>\n",
       "      <td>-97.822</td>\n",
       "    </tr>\n",
       "    <tr>\n",
       "      <th>78144650</th>\n",
       "      <th>2018-05-23</th>\n",
       "      <td>395152</td>\n",
       "      <td>CloudPBX</td>\n",
       "      <td>43.6319</td>\n",
       "      <td>-79.3716</td>\n",
       "      <td>7018</td>\n",
       "      <td>AT&amp;T Services, Inc.</td>\n",
       "      <td>37.751</td>\n",
       "      <td>-97.822</td>\n",
       "    </tr>\n",
       "  </tbody>\n",
       "</table>\n",
       "</div>"
      ],
      "text/plain": [
       "                     a_saddr_asn a_saddr_asorg  a_saddr_lat  a_saddr_long  \\\n",
       "71483861 2018-03-15       395152      CloudPBX      43.6319      -79.3716   \n",
       "65221709 2018-01-11       395152      CloudPBX      43.6319      -79.3716   \n",
       "64743723 2018-01-04       395152      CloudPBX      43.6319      -79.3716   \n",
       "65528895 2018-01-15       395152      CloudPBX      43.6319      -79.3716   \n",
       "78144650 2018-05-23       395152      CloudPBX      43.6319      -79.3716   \n",
       "\n",
       "                    b_saddr_asn                   b_saddr_asorg b_saddr_lat  \\\n",
       "71483861 2018-03-15        5607                  Sky UK Limited     53.2738   \n",
       "65221709 2018-01-11        3356             Level 3 Parent, LLC      37.751   \n",
       "64743723 2018-01-04       32308                       8x8, Inc.      37.751   \n",
       "65528895 2018-01-15       16504  Granite Telecommunications LLC      37.751   \n",
       "78144650 2018-05-23        7018             AT&T Services, Inc.      37.751   \n",
       "\n",
       "                    b_saddr_long  \n",
       "71483861 2018-03-15      -2.6087  \n",
       "65221709 2018-01-11      -97.822  \n",
       "64743723 2018-01-04      -97.822  \n",
       "65528895 2018-01-15      -97.822  \n",
       "78144650 2018-05-23      -97.822  "
      ]
     },
     "execution_count": 22,
     "metadata": {},
     "output_type": "execute_result"
    }
   ],
   "source": [
    "df_van_asn.head()"
   ]
  },
  {
   "cell_type": "code",
   "execution_count": null,
   "metadata": {},
   "outputs": [],
   "source": []
  }
 ],
 "metadata": {
  "kernelspec": {
   "display_name": "Python 3",
   "language": "python",
   "name": "python3"
  },
  "language_info": {
   "codemirror_mode": {
    "name": "ipython",
    "version": 3
   },
   "file_extension": ".py",
   "mimetype": "text/x-python",
   "name": "python",
   "nbconvert_exporter": "python",
   "pygments_lexer": "ipython3",
   "version": "3.6.5"
  }
 },
 "nbformat": 4,
 "nbformat_minor": 2
}
