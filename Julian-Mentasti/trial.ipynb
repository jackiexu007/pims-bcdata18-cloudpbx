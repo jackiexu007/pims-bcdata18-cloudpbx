{
 "cells": [
  {
   "cell_type": "code",
   "execution_count": 20,
   "metadata": {
    "collapsed": true
   },
   "outputs": [],
   "source": [
    "import pandas as pd\n",
    "import os"
   ]
  },
  {
   "cell_type": "code",
   "execution_count": 21,
   "metadata": {},
   "outputs": [
    {
     "data": {
      "text/plain": [
       "(5432, 161)"
      ]
     },
     "execution_count": 21,
     "metadata": {},
     "output_type": "execute_result"
    }
   ],
   "source": [
    "DATA_ROOT = '/home/julian/bcdata/pims-bcdata18-cloudpbx/data'\n",
    "CSV_FILE_PATH = os.path.join(DATA_ROOT,'locn-w-cities.csv')\n",
    "df = pd.read_csv(CSV_FILE_PATH)\n",
    "df.shape"
   ]
  },
  {
   "cell_type": "code",
   "execution_count": 25,
   "metadata": {},
   "outputs": [],
   "source": [
    "def evaluaterow(a1, a2, a3, a4, a5, a6, a7, a8, a9, a10, b1, b2, b3, b4, b5, b6, b7, b8, b9, b10, a_delay_sum, b_delay_sum, connect_duration):\n",
    "\n",
    "    a_top_sum = get_top_sum(a1, a2, a3, a4, a5, a6, a7, a8, a9, a10, a_delay_sum)\n",
    "    b_top_sum = get_top_sum(b1, b2, b3, b4, b5, b6, b7, b8, b9, b10, b_delay_sum)\n",
    "    \n",
    "    a_bot_sum = get_top_sum(a1, a2, a3, a4, a5, a6, a7, a8, a9, a10, connect_duration)\n",
    "    b_bot_sum = get_top_sum(b1, b2, b3, b4, b5, b6, b7, b8, b9, b10, connect_duration)\n",
    "    \n",
    "    sum_a = a_top_sum/a_bot_sum\n",
    "    sum_b = b_top_sum/b_bot_sum\n",
    "    \n",
    "    total_sum = (sum_a + sum_b)/2\n",
    "    \n",
    "    return total_sum\n",
    "    \n",
    "def get_top_sum(a1, a2, a3, a4, a5, a6, a7, a8, a9, a10, delay_sum):\n",
    "    top_sum = 0\n",
    "    n = 1\n",
    "    w1 = 1\n",
    "    w2 = 1\n",
    "    w3 = 1\n",
    "    w4 = 1\n",
    "    w5 = 1\n",
    "    w6 = 1\n",
    "    w7 = 1\n",
    "    w8 = 1\n",
    "    w9 = 1\n",
    "    w10 = 1\n",
    "    \n",
    "    top_sum += 20*n*(a1)*w1\n",
    "    n += 1\n",
    "    top_sum += 20*n*(a2)*w2\n",
    "    n += 1\n",
    "    top_sum += 20*n*(a3)*w3\n",
    "    n += 1\n",
    "    top_sum += 20*n*(a4)*w4\n",
    "    n +=1\n",
    "    top_sum += 20*n*(a5)*w5\n",
    "    n += 1\n",
    "    top_sum += 20*n*(a6)*w6\n",
    "    n += 1\n",
    "    top_sum += 20*n*(a7)*w7\n",
    "    n +=1\n",
    "    top_sum += 20*n*(a8)*w8\n",
    "    n += 1\n",
    "    top_sum += 20*n*(a9)*w9\n",
    "    n += 1\n",
    "    top_sum += 20*n*(a10)*w10\n",
    "    \n",
    "    return(top_sum + delay_sum)\n",
    "\n",
    "def get_bot_sum(a1, a2, a3, a4, a5, a6, a7, a8, a9, a10, connect_duration):\n",
    "    \n",
    "    bot_sum = 0\n",
    "    n = 1\n",
    "    w1 = 1\n",
    "    w2 = 1\n",
    "    w3 = 1\n",
    "    w4 = 1\n",
    "    w5 = 1\n",
    "    w6 = 1\n",
    "    w7 = 1\n",
    "    w8 = 1\n",
    "    w9 = 1\n",
    "    w10 = 1\n",
    "    \n",
    "    bot_sum += 20*n*(a1)*(1-w1)\n",
    "    n += 1\n",
    "    bot_sum += 20*n*(a2)*(1-w2)\n",
    "    n += 1\n",
    "    bot_sum += 20*n*(a3)*(1-w3)\n",
    "    n += 1\n",
    "    bot_sum += 20*n*(a4)*(1-w4)\n",
    "    n +=1\n",
    "    bot_sum += 20*n*(a5)*(1-w5)\n",
    "    n += 1\n",
    "    bot_sum += 20*n*(a6)*(1-w6)\n",
    "    n += 1\n",
    "    bot_sum += 20*n*(a7)*(1-w7)\n",
    "    n +=1\n",
    "    bot_sum += 20*n*(a8)*(1-w8)\n",
    "    n += 1\n",
    "    bot_sum += 20*n*(a9)*(1-w9)\n",
    "    n += 1\n",
    "    bot_sum += 20*n*(a10)*(1-w10)\n",
    "    \n",
    "    return(bot_sum + connect_duration)\n",
    "    \n"
   ]
  },
  {
   "cell_type": "code",
   "execution_count": 26,
   "metadata": {},
   "outputs": [],
   "source": [
    "df['Qualfun'] = df.apply(lambda df: pd.Series(evaluaterow(df['a_sl1'],df['a_sl2'],df['a_sl3'],df['a_sl4'],df['a_sl5'],df['a_sl6'],df['a_sl7'],df['a_sl8'],df['a_sl9'],df['a_sl10'],df['b_sl1'],df['b_sl2'],df['b_sl3'],df['b_sl4'],df['b_sl5'],df['b_sl6'],df['b_sl7'],df['b_sl8'],df['b_sl9'],df['b_sl10'],df['a_delay_sum'],df['b_delay_sum'],df['duration'])), axis=1)"
   ]
  },
  {
   "cell_type": "code",
   "execution_count": 15,
   "metadata": {},
   "outputs": [],
   "source": [
    "filter1 = df[\"Qualfun\"] > 1"
   ]
  },
  {
   "cell_type": "code",
   "execution_count": 16,
   "metadata": {},
   "outputs": [],
   "source": [
    "db = df[filter1]"
   ]
  },
  {
   "cell_type": "code",
   "execution_count": 17,
   "metadata": {},
   "outputs": [
    {
     "data": {
      "text/plain": [
       "(343, 162)"
      ]
     },
     "execution_count": 17,
     "metadata": {},
     "output_type": "execute_result"
    }
   ],
   "source": [
    "db.shape"
   ]
  },
  {
   "cell_type": "code",
   "execution_count": 18,
   "metadata": {},
   "outputs": [
    {
     "data": {
      "text/plain": [
       "0       1.698113\n1       1.698113\n2       0.000000\n3       0.000000\n4       0.000000\n5       0.000000\n6       1.372549\n7       1.176471\n8       0.195652\n9       0.086957\n10      0.000000\n11      0.000000\n12      0.303030\n13      0.303030\n14      0.283688\n15      0.212766\n16      0.000000\n17      0.000000\n18      4.444444\n19      4.166667\n20      0.000000\n21      0.189573\n22      0.217391\n23      0.000000\n24      0.000000\n25      0.000000\n26      0.000000\n27      0.000000\n28      0.093458\n29      0.000000\n          ...   \n5402    0.000000\n5403    0.000000\n5404    0.000000\n5405    0.111111\n5406    4.161074\n5407    0.000000\n5408    0.000000\n5409    1.043932\n5410    0.225225\n5411    0.084746\n5412    0.085470\n5413    0.078125\n5414    0.000000\n5415    0.000000\n5416    0.000000\n5417    0.025253\n5418    0.000000\n5419    0.000000\n5420    0.044444\n5421    1.153846\n5422    1.153846\n5423    0.238095\n5424    0.000000\n5425    0.044643\n5426    0.000000\n5427    0.169492\n5428    0.000000\n5429    0.000000\n5430    0.000000\n5431    0.000000\nName: Qualfun, Length: 5432, dtype: float64"
      ]
     },
     "execution_count": 18,
     "metadata": {},
     "output_type": "execute_result"
    }
   ],
   "source": [
    "df['Qualfun']"
   ]
  },
  {
   "cell_type": "code",
   "execution_count": 19,
   "metadata": {},
   "outputs": [],
   "source": []
  },
  {
   "cell_type": "code",
   "execution_count": 19,
   "metadata": {},
   "outputs": [],
   "source": []
  },
  {
   "cell_type": "code",
   "execution_count": null,
   "metadata": {},
   "outputs": [],
   "source": []
  }
 ],
 "metadata": {
  "kernelspec": {
   "display_name": "Python 2",
   "language": "python",
   "name": "python2"
  },
  "language_info": {
   "codemirror_mode": {
    "name": "ipython",
    "version": 2
   },
   "file_extension": ".py",
   "mimetype": "text/x-python",
   "name": "python",
   "nbconvert_exporter": "python",
   "pygments_lexer": "ipython2",
   "version": "2.7.6"
  }
 },
 "nbformat": 4,
 "nbformat_minor": 0
}
