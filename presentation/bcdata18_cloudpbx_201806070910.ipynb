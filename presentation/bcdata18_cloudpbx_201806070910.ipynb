{
 "cells": [
  {
   "cell_type": "markdown",
   "metadata": {
    "slideshow": {
     "slide_type": "slide"
    }
   },
   "source": [
    "# BC Data Science Workshop Group 5\n",
    "## CloudPBX\n",
    "\n",
    "\n",
    "Stefan Hannie, Eric Lam, Mohamed Laradji, Idalia Machuca, Julian Mentasti, Conor Morrison, Jackie Xu\n",
    "\n",
    "<img src=\"./img/network_map_canada.png\" alt=\"drawing\" style=\"width:500px;\"/>"
   ]
  },
  {
   "cell_type": "markdown",
   "metadata": {
    "slideshow": {
     "slide_type": "slide"
    }
   },
   "source": [
    "## Table of Contents\n",
    "\n",
    "- Introduce RISE notebook slides\n",
    "- Propose presentation workflow\n"
   ]
  },
  {
   "cell_type": "markdown",
   "metadata": {
    "slideshow": {
     "slide_type": "slide"
    }
   },
   "source": [
    "## RISE Notebook\n",
    "- it's all *markdown*\n",
    "- installed on `bcdata.syzygy.ca`"
   ]
  },
  {
   "cell_type": "markdown",
   "metadata": {
    "slideshow": {
     "slide_type": "fragment"
    }
   },
   "source": [
    "```\n",
    "## RISE Notebook\n",
    "- it's all *markdown*\n",
    "- installed on `bcdata.syzygy.ca`\n",
    "```"
   ]
  },
  {
   "cell_type": "markdown",
   "metadata": {
    "slideshow": {
     "slide_type": "subslide"
    }
   },
   "source": [
    "### Slide types:\n",
    "\n",
    "\n",
    "\n",
    " - Slide: Horizontal \n",
    " - Subslide: Vertical \n",
    " - Fragments: Within slide"
   ]
  },
  {
   "cell_type": "markdown",
   "metadata": {
    "slideshow": {
     "slide_type": "subslide"
    }
   },
   "source": [
    "### Can Run Code"
   ]
  },
  {
   "cell_type": "code",
   "execution_count": 9,
   "metadata": {
    "slideshow": {
     "slide_type": "skip"
    }
   },
   "outputs": [],
   "source": [
    "import pandas as pd\n",
    "DATAPATH='../data/workshop-content18/5-cloudpbx/data/cloudpbx_sample_data_10k/127.0.0.1-2018-05-2018-3-58 PM- voipmonitor-cdr.csv'"
   ]
  },
  {
   "cell_type": "code",
   "execution_count": 10,
   "metadata": {
    "slideshow": {
     "slide_type": "fragment"
    }
   },
   "outputs": [
    {
     "data": {
      "text/html": [
       "<div>\n",
       "<style scoped>\n",
       "    .dataframe tbody tr th:only-of-type {\n",
       "        vertical-align: middle;\n",
       "    }\n",
       "\n",
       "    .dataframe tbody tr th {\n",
       "        vertical-align: top;\n",
       "    }\n",
       "\n",
       "    .dataframe thead th {\n",
       "        text-align: right;\n",
       "    }\n",
       "</style>\n",
       "<table border=\"1\" class=\"dataframe\">\n",
       "  <thead>\n",
       "    <tr style=\"text-align: right;\">\n",
       "      <th></th>\n",
       "      <th>ID</th>\n",
       "      <th>calldate</th>\n",
       "      <th>callend</th>\n",
       "      <th>duration</th>\n",
       "      <th>connect_duration</th>\n",
       "      <th>progress_time</th>\n",
       "      <th>first_rtp_time</th>\n",
       "      <th>caller</th>\n",
       "      <th>caller_domain</th>\n",
       "      <th>caller_reverse</th>\n",
       "      <th>...</th>\n",
       "      <th>response_time_xxx</th>\n",
       "      <th>a_mos_f1_min_mult10</th>\n",
       "      <th>a_mos_f2_min_mult10</th>\n",
       "      <th>a_mos_adapt_min_mult10</th>\n",
       "      <th>b_mos_f1_min_mult10</th>\n",
       "      <th>b_mos_f2_min_mult10</th>\n",
       "      <th>b_mos_adapt_min_mult10</th>\n",
       "      <th>a_rtp_ptime</th>\n",
       "      <th>b_rtp_ptime</th>\n",
       "      <th>flags</th>\n",
       "    </tr>\n",
       "  </thead>\n",
       "  <tbody>\n",
       "    <tr>\n",
       "      <th>0</th>\n",
       "      <td>76108556</td>\n",
       "      <td>2018-05-01 12:19:22</td>\n",
       "      <td>2018-05-01 12:20:15</td>\n",
       "      <td>53</td>\n",
       "      <td>29.0</td>\n",
       "      <td>3.0</td>\n",
       "      <td>3.0</td>\n",
       "      <td>user_z</td>\n",
       "      <td>sanitized</td>\n",
       "      <td>z_resu</td>\n",
       "      <td>...</td>\n",
       "      <td>4.0</td>\n",
       "      <td>45.0</td>\n",
       "      <td>45.0</td>\n",
       "      <td>45.0</td>\n",
       "      <td>45.0</td>\n",
       "      <td>45.0</td>\n",
       "      <td>45.0</td>\n",
       "      <td>30.0</td>\n",
       "      <td>30.0</td>\n",
       "      <td>NaN</td>\n",
       "    </tr>\n",
       "    <tr>\n",
       "      <th>1</th>\n",
       "      <td>76108561</td>\n",
       "      <td>2018-05-01 12:19:22</td>\n",
       "      <td>2018-05-01 12:20:15</td>\n",
       "      <td>53</td>\n",
       "      <td>29.0</td>\n",
       "      <td>3.0</td>\n",
       "      <td>3.0</td>\n",
       "      <td>user_z</td>\n",
       "      <td>sanitized</td>\n",
       "      <td>z_resu</td>\n",
       "      <td>...</td>\n",
       "      <td>5.0</td>\n",
       "      <td>45.0</td>\n",
       "      <td>45.0</td>\n",
       "      <td>45.0</td>\n",
       "      <td>45.0</td>\n",
       "      <td>45.0</td>\n",
       "      <td>45.0</td>\n",
       "      <td>30.0</td>\n",
       "      <td>30.0</td>\n",
       "      <td>NaN</td>\n",
       "    </tr>\n",
       "    <tr>\n",
       "      <th>2</th>\n",
       "      <td>76104730</td>\n",
       "      <td>2018-05-01 11:12:41</td>\n",
       "      <td>2018-05-01 11:13:34</td>\n",
       "      <td>53</td>\n",
       "      <td>37.0</td>\n",
       "      <td>3.0</td>\n",
       "      <td>3.0</td>\n",
       "      <td>user_z</td>\n",
       "      <td>sanitized</td>\n",
       "      <td>z_resu</td>\n",
       "      <td>...</td>\n",
       "      <td>5.0</td>\n",
       "      <td>45.0</td>\n",
       "      <td>45.0</td>\n",
       "      <td>45.0</td>\n",
       "      <td>45.0</td>\n",
       "      <td>45.0</td>\n",
       "      <td>45.0</td>\n",
       "      <td>20.0</td>\n",
       "      <td>20.0</td>\n",
       "      <td>NaN</td>\n",
       "    </tr>\n",
       "    <tr>\n",
       "      <th>3</th>\n",
       "      <td>76104735</td>\n",
       "      <td>2018-05-01 11:12:41</td>\n",
       "      <td>2018-05-01 11:13:34</td>\n",
       "      <td>53</td>\n",
       "      <td>37.0</td>\n",
       "      <td>3.0</td>\n",
       "      <td>3.0</td>\n",
       "      <td>user_z</td>\n",
       "      <td>sanitized</td>\n",
       "      <td>z_resu</td>\n",
       "      <td>...</td>\n",
       "      <td>6.0</td>\n",
       "      <td>45.0</td>\n",
       "      <td>45.0</td>\n",
       "      <td>45.0</td>\n",
       "      <td>45.0</td>\n",
       "      <td>45.0</td>\n",
       "      <td>45.0</td>\n",
       "      <td>20.0</td>\n",
       "      <td>20.0</td>\n",
       "      <td>NaN</td>\n",
       "    </tr>\n",
       "    <tr>\n",
       "      <th>4</th>\n",
       "      <td>76105558</td>\n",
       "      <td>2018-05-01 11:40:31</td>\n",
       "      <td>2018-05-01 11:41:51</td>\n",
       "      <td>80</td>\n",
       "      <td>72.0</td>\n",
       "      <td>3.0</td>\n",
       "      <td>3.0</td>\n",
       "      <td>user_z</td>\n",
       "      <td>sanitized</td>\n",
       "      <td>z_resu</td>\n",
       "      <td>...</td>\n",
       "      <td>5.0</td>\n",
       "      <td>45.0</td>\n",
       "      <td>45.0</td>\n",
       "      <td>45.0</td>\n",
       "      <td>45.0</td>\n",
       "      <td>45.0</td>\n",
       "      <td>45.0</td>\n",
       "      <td>30.0</td>\n",
       "      <td>30.0</td>\n",
       "      <td>NaN</td>\n",
       "    </tr>\n",
       "  </tbody>\n",
       "</table>\n",
       "<p>5 rows × 143 columns</p>\n",
       "</div>"
      ],
      "text/plain": [
       "         ID             calldate              callend  duration  \\\n",
       "0  76108556  2018-05-01 12:19:22  2018-05-01 12:20:15        53   \n",
       "1  76108561  2018-05-01 12:19:22  2018-05-01 12:20:15        53   \n",
       "2  76104730  2018-05-01 11:12:41  2018-05-01 11:13:34        53   \n",
       "3  76104735  2018-05-01 11:12:41  2018-05-01 11:13:34        53   \n",
       "4  76105558  2018-05-01 11:40:31  2018-05-01 11:41:51        80   \n",
       "\n",
       "   connect_duration  progress_time  first_rtp_time  caller caller_domain  \\\n",
       "0              29.0            3.0             3.0  user_z     sanitized   \n",
       "1              29.0            3.0             3.0  user_z     sanitized   \n",
       "2              37.0            3.0             3.0  user_z     sanitized   \n",
       "3              37.0            3.0             3.0  user_z     sanitized   \n",
       "4              72.0            3.0             3.0  user_z     sanitized   \n",
       "\n",
       "  caller_reverse  ...  response_time_xxx a_mos_f1_min_mult10  \\\n",
       "0         z_resu  ...                4.0                45.0   \n",
       "1         z_resu  ...                5.0                45.0   \n",
       "2         z_resu  ...                5.0                45.0   \n",
       "3         z_resu  ...                6.0                45.0   \n",
       "4         z_resu  ...                5.0                45.0   \n",
       "\n",
       "  a_mos_f2_min_mult10 a_mos_adapt_min_mult10 b_mos_f1_min_mult10  \\\n",
       "0                45.0                   45.0                45.0   \n",
       "1                45.0                   45.0                45.0   \n",
       "2                45.0                   45.0                45.0   \n",
       "3                45.0                   45.0                45.0   \n",
       "4                45.0                   45.0                45.0   \n",
       "\n",
       "   b_mos_f2_min_mult10  b_mos_adapt_min_mult10  a_rtp_ptime  b_rtp_ptime flags  \n",
       "0                 45.0                    45.0         30.0         30.0   NaN  \n",
       "1                 45.0                    45.0         30.0         30.0   NaN  \n",
       "2                 45.0                    45.0         20.0         20.0   NaN  \n",
       "3                 45.0                    45.0         20.0         20.0   NaN  \n",
       "4                 45.0                    45.0         30.0         30.0   NaN  \n",
       "\n",
       "[5 rows x 143 columns]"
      ]
     },
     "execution_count": 10,
     "metadata": {},
     "output_type": "execute_result"
    }
   ],
   "source": [
    "df = pd.read_csv(DATAPATH)\n",
    "df.head()"
   ]
  },
  {
   "cell_type": "markdown",
   "metadata": {
    "slideshow": {
     "slide_type": "slide"
    }
   },
   "source": [
    "## Presentation Workflow\n",
    "\n",
    "- Two folders\n",
    "    - `presentation` for actual slides\n",
    "    - `slide_resources` for relevant notebooks\n"
   ]
  },
  {
   "cell_type": "markdown",
   "metadata": {
    "slideshow": {
     "slide_type": "subslide"
    }
   },
   "source": [
    "### Rough Plan for today\n",
    "1. Commit relevant notebooks to `slide_resources` (morning)\n",
    "2. Eric compiles data to a rough order (before lunch)\n",
    "3. Everyone fills in their relevant part"
   ]
  },
  {
   "cell_type": "markdown",
   "metadata": {
    "slideshow": {
     "slide_type": "subslide"
    }
   },
   "source": [
    "### Naming Conventions\n",
    "- Presentation slide use timestamps (ex. `./presentation/bcdata18_cloudpbx_201806070910.ipynb`)\n",
    "- Image/Resources go to (`./presentation/img/...`)"
   ]
  }
 ],
 "metadata": {
  "celltoolbar": "Slideshow",
  "kernelspec": {
   "display_name": "Python 3",
   "language": "python",
   "name": "python3"
  },
  "language_info": {
   "codemirror_mode": {
    "name": "ipython",
    "version": 3
   },
   "file_extension": ".py",
   "mimetype": "text/x-python",
   "name": "python",
   "nbconvert_exporter": "python",
   "pygments_lexer": "ipython3",
   "version": "3.6.5"
  }
 },
 "nbformat": 4,
 "nbformat_minor": 1
}
