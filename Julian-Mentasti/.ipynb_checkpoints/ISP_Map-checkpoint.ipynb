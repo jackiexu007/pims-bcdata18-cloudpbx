{
 "cells": [
  {
   "cell_type": "code",
   "execution_count": 3,
   "metadata": {},
   "outputs": [
    {
     "ename": "ImportError",
     "evalue": "No module named 'mpl_toolkits.basemap'",
     "output_type": "error",
     "traceback": [
      "\u001b[0;31m---------------------------------------------------------------------------\u001b[0m",
      "\u001b[0;31mImportError\u001b[0m                               Traceback (most recent call last)",
      "\u001b[0;32m<ipython-input-3-c00b1c66d883>\u001b[0m in \u001b[0;36m<module>\u001b[0;34m()\u001b[0m\n\u001b[1;32m      5\u001b[0m \u001b[0mget_ipython\u001b[0m\u001b[0;34m(\u001b[0m\u001b[0;34m)\u001b[0m\u001b[0;34m.\u001b[0m\u001b[0mmagic\u001b[0m\u001b[0;34m(\u001b[0m\u001b[0;34m'matplotlib inline'\u001b[0m\u001b[0;34m)\u001b[0m\u001b[0;34m\u001b[0m\u001b[0m\n\u001b[1;32m      6\u001b[0m \u001b[0;32mimport\u001b[0m \u001b[0mgeoip2\u001b[0m\u001b[0;34m.\u001b[0m\u001b[0mdatabase\u001b[0m\u001b[0;34m\u001b[0m\u001b[0m\n\u001b[0;32m----> 7\u001b[0;31m \u001b[0;32mfrom\u001b[0m \u001b[0mmpl_toolkits\u001b[0m\u001b[0;34m.\u001b[0m\u001b[0mbasemap\u001b[0m \u001b[0;32mimport\u001b[0m \u001b[0mBasemap\u001b[0m\u001b[0;34m,\u001b[0m \u001b[0mcm\u001b[0m\u001b[0;34m\u001b[0m\u001b[0m\n\u001b[0m",
      "\u001b[0;31mImportError\u001b[0m: No module named 'mpl_toolkits.basemap'"
     ]
    }
   ],
   "source": [
    "import numpy as np\n",
    "import pandas as pd\n",
    "import os\n",
    "import matplotlib.pyplot as plt\n",
    "%matplotlib inline\n",
    "import geoip2.database\n",
    "from mpl_toolkits.basemap import Basemap, cm"
   ]
  },
  {
   "cell_type": "code",
   "execution_count": null,
   "metadata": {},
   "outputs": [],
   "source": [
    "DATA_ROOT = '../data'\n",
    "CSV_FILE_PATH = os.path.join(DATA_ROOT,'127.0.0.1-2018-05-2018-3-58 PM- voipmonitor-cdr.csv')\n",
    "GEOLITE_DB_PATH = os.path.join(DATA_ROOT,'GeoLite2-City.mmdb')\n",
    "reader = geoip2.database.Reader(GEOLITE_DB_PATH)\n",
    "\n",
    "DESCRIBED_COLUMNS = [\"calldate\", \"callend\", \"duration\", \"connect_duration\", \"progress_time\", \n",
    "                     \"first_rtp_time\", \"caller\", \"caller_domain\", \"caller_reverse\", \"callername\", \n",
    "                     \"callername_reverse\", \"called\", \"called_domain\", \"called_reverse\", \"sipcallerip\", \n",
    "                     \"sipcallerport\", \"sipcalledip\", \"sipcalledport\", \"whohanged\", \"lastSIPresponse_id\", \n",
    "                     \"dscp\", \"a_payload\", \"b_payload\", \"a_saddr\", \"b_saddr\", \"a_received\", \"b_received\", \n",
    "                     \"a_lost\", \"b_lost\", \"a_ua_id\", \"b_ua_id\", \"a_avgjitter_mult10\", \"b_avgjitter_mult10\",\n",
    "                     \"a_maxjitter\", \"b_maxjitter\", \"a_sl1\", \"a_sl2\", \"a_sl3\", \"a_sl4\", \"a_sl5\", \"a_sl6\", \n",
    "                     \"a_sl7\", \"a_sl8\", \"a_sl9\", \"a_sl10\", \"a_d50\", \"a_d70\", \"a_d90\", \"a_d120\", \"a_d150\", \n",
    "                     \"a_d200\", \"a_d300\", \"b_sl1\", \"b_sl2\", \"b_sl3\", \"b_sl4\", \"b_sl5\", \"b_sl6\", \"b_sl7\", \n",
    "                     \"b_sl8\", \"b_sl9\", \"b_sl10\", \"b_d50\", \"b_d70\", \"b_d90\", \"b_d120\", \"b_d150\", \"b_d200\", \n",
    "                     \"b_d300\", \"a_mos_f1_mult10\", \"a_mos_f2_mult10\", \"a_mos_adapt_mult10\", \n",
    "                     \"b_mos_f1_mult10\", \"b_mos_f2_mult10\", \"b_mos_adapt_mult10\", \"a_rtcp_loss\", \n",
    "                     \"a_rtcp_maxfr\", \"a_rtcp_avgfr_mult10\", \"a_rtcp_maxjitter\", \"a_rtcp_avgjitter_mult10\", \n",
    "                     \"b_rtcp_loss\", \"b_rtcp_maxfr\", \"b_rtcp_avgfr_mult10\", \"b_rtcp_maxjitter\", \n",
    "                     \"b_rtcp_avgjitter_mult10\", \"packet_loss_perc_mult1000\", \"a_packet_loss_perc_mult1000\", \n",
    "                     \"b_packet_loss_perc_mult1000\", \"delay_sum\", \"a_delay_sum\", \"b_delay_sum\", \n",
    "                     \"a_rtp_ptime\", \"b_rtp_ptime\"]"
   ]
  },
  {
   "cell_type": "raw",
   "metadata": {},
   "source": [
    "df = pd.read_csv(CSV_FILE_PATH, parse_dates=['calldate', 'callend'])\n",
    "df = df[DESCRIBED_COLUMNS]\n",
    "df.dropna(axis=1, how='all', inplace=True)\n",
    "df = df.loc[:, ~(df == 'sanitized').all(axis=0)]\n",
    "df.drop(columns=[col for col in df.columns if 'reverse' in col], inplace=True)\n",
    "df['duration_td'] = df.callend - df.calldate\n",
    "df_dens = df.dropna(axis=0, thresh = 79)"
   ]
  },
  {
   "cell_type": "code",
   "execution_count": null,
   "metadata": {},
   "outputs": [],
   "source": [
    "locn = pd.read_csv('../locn-updated.csv')\n",
    "#sipcallerasorg = locn['sipcallerasorg']\n",
    "\n",
    "#locn_fsip = locn[sipcallerasorg!='CloudPBX']\n",
    "\n",
    "#connect_duration = locn_fsip['connect_duration'] \n",
    "\n",
    "#locn_fdur = locn_fsip[connect_duration>0]\n"
   ]
  },
  {
   "cell_type": "code",
   "execution_count": null,
   "metadata": {
    "scrolled": false
   },
   "outputs": [],
   "source": [
    "lons_caller = locn['ipaddr_lons_ip_caller']\n",
    "lat_caller = locn['ipaddr_lat_ip_caller']\n",
    "lons_called = locn['ipaddr_lons_ip_called']\n",
    "lat_called = locn['ipaddr_lat_ip_called']"
   ]
  },
  {
   "cell_type": "code",
   "execution_count": null,
   "metadata": {},
   "outputs": [],
   "source": [
    "locn.head()"
   ]
  },
  {
   "cell_type": "code",
   "execution_count": null,
   "metadata": {},
   "outputs": [],
   "source": [
    "fig = plt.figure(figsize=(20, 16), edgecolor='w')\n",
    "#m = Basemap(width=6000000,height=4500000,resolution='c',projection='stere',lat_1=40.,lat_2=5,lon_0=-100,lat_0=50)\n",
    "#m = Basemap(width=6000000,height=4500000,resolution='c',projection='aea',lat_1=40.,lat_2=5,lon_0=-100,lat_0=50)\n",
    "#m = Basemap(resolution='c',projection='merc',llcrnrlat=-80,urcrnrlat=80, llcrnrlon=-180,urcrnrlon=180,lat_ts=20)\n",
    "m = Basemap(projection='cyl', resolution='c', llcrnrlat=-90, urcrnrlat=90, llcrnrlon=-180, urcrnrlon=180)\n",
    "#m.drawparallels(np.arange(-90.,91.,30.),labels=[True,True,False,False],dashes=[2,2])\n",
    "#m.drawmeridians(np.arange(-180.,181.,30.),labels=[False,False,False,True],dashes=[2,2])\n",
    "\n",
    "m.drawcountries(linewidth=2, linestyle='solid', color='w' ) \n",
    "m.drawstates(linewidth=0.5, linestyle='solid', color='w')\n",
    "m.shadedrelief()\n",
    "#\n",
    "lons1, lats1 = np.meshgrid(lons_caller, lat_caller)\n",
    "x1, y1 = m(lons1, lats1)\n",
    "m.plot(x1, y1, 'bo', markersize=4)\n",
    "#\n",
    "lons2, lats2 = np.meshgrid(lons_called, lat_called)\n",
    "x2, y2 = m(lons2, lats2)\n",
    "m.plot(x2, y2, 'ro', markersize=4)\n",
    "\n",
    "plt.title('Coordinates for IP addresses of Initiated Calls', fontsize=20)\n",
    "fig.savefig('sipcallerip.png', dpi=100, bbox_inches='tight')"
   ]
  },
  {
   "cell_type": "code",
   "execution_count": null,
   "metadata": {},
   "outputs": [],
   "source": [
    "fig = plt.figure(figsize=(20, 16), edgecolor='w')\n",
    "m = Basemap(width=6000000,height=4500000,resolution='c',projection='stere',lat_1=40.,lat_2=5,lon_0=-100,lat_0=50)\n",
    "m.drawparallels(np.arange(-90.,91.,10.),labels=[True,True,False,False],dashes=[2,2])\n",
    "m.drawmeridians(np.arange(-180.,181.,10.),labels=[False,False,False,True],dashes=[2,2])\n",
    "m.drawcountries(linewidth=2, linestyle='solid', color='w' ) \n",
    "m.drawstates(linewidth=0.5, linestyle='solid', color='w')\n",
    "m.shadedrelief()\n",
    "#\n",
    "lons1, lats1 = np.meshgrid(lons_caller, lat_caller)\n",
    "x1, y1 = m(lons1, lats1)\n",
    "m.plot(x1, y1, 'bo', markersize=4)\n",
    "#\n",
    "lons2, lats2 = np.meshgrid(lons_called, lat_called)\n",
    "x2, y2 = m(lons2, lats2)\n",
    "m.plot(x2, y2, 'ro', markersize=4)\n",
    "\n",
    "plt.title('Coordinates for IP addresses of Initiated Calls', fontsize=20)\n",
    "fig.savefig('sipcallerip.png', dpi=100, bbox_inches='tight')"
   ]
  },
  {
   "cell_type": "code",
   "execution_count": null,
   "metadata": {},
   "outputs": [],
   "source": []
  }
 ],
 "metadata": {
  "kernelspec": {
   "display_name": "Python 3",
   "language": "python",
   "name": "python3"
  }
 },
 "nbformat": 4,
 "nbformat_minor": 1
}
